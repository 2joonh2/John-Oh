{
 "cells": [
  {
   "cell_type": "markdown",
   "metadata": {
    "colab_type": "text",
    "id": "view-in-github"
   },
   "source": [
    "<a href=\"https://colab.research.google.com/github/2joonh2/John-Oh/blob/main/Flask_on_colab.ipynb\" target=\"_parent\"><img src=\"https://colab.research.google.com/assets/colab-badge.svg\" alt=\"Open In Colab\"/></a>"
   ]
  },
  {
   "cell_type": "code",
   "execution_count": 1,
   "metadata": {
    "id": "mCW4xoUiSM-V"
   },
   "outputs": [],
   "source": [
    "!pip install flask_ngrok -qq"
   ]
  },
  {
   "cell_type": "code",
   "execution_count": 2,
   "metadata": {
    "id": "XE-WIf9QCtn0"
   },
   "outputs": [
    {
     "name": "stderr",
     "output_type": "stream",
     "text": [
      "지정된 경로를 찾을 수 없습니다.\n"
     ]
    }
   ],
   "source": [
    "!curl -s https://ngrok-agent.s3.amazonaws.com/ngrok.asc | sudo tee /etc/apt/trusted.gpg.d/ngrok.asc >/dev/null && echo \"deb https://ngrok-agent.s3.amazonaws.com buster main\" | sudo tee /etc/apt/sources.list.d/ngrok.list && sudo apt update && sudo apt install ngrok"
   ]
  },
  {
   "cell_type": "code",
   "execution_count": 5,
   "metadata": {
    "id": "YNu6QU-fTWCJ"
   },
   "outputs": [
    {
     "name": "stderr",
     "output_type": "stream",
     "text": [
      "'ls'은(는) 내부 또는 외부 명령, 실행할 수 있는 프로그램, 또는\n",
      "배치 파일이 아닙니다.\n"
     ]
    }
   ],
   "source": [
    "!ls"
   ]
  },
  {
   "cell_type": "code",
   "execution_count": 4,
   "metadata": {
    "id": "i9eoOFL8bphV"
   },
   "outputs": [
    {
     "ename": "ModuleNotFoundError",
     "evalue": "No module named 'google.colab'",
     "output_type": "error",
     "traceback": [
      "\u001b[1;31m---------------------------------------------------------------------------\u001b[0m",
      "\u001b[1;31mModuleNotFoundError\u001b[0m                       Traceback (most recent call last)",
      "\u001b[1;32m~\\AppData\\Local\\Temp/ipykernel_3524/1408506528.py\u001b[0m in \u001b[0;36m<module>\u001b[1;34m\u001b[0m\n\u001b[1;32m----> 1\u001b[1;33m \u001b[1;32mfrom\u001b[0m \u001b[0mgoogle\u001b[0m\u001b[1;33m.\u001b[0m\u001b[0mcolab\u001b[0m \u001b[1;32mimport\u001b[0m \u001b[0mdrive\u001b[0m\u001b[1;33m\u001b[0m\u001b[1;33m\u001b[0m\u001b[0m\n\u001b[0m\u001b[0;32m      2\u001b[0m \u001b[0mdrive\u001b[0m\u001b[1;33m.\u001b[0m\u001b[0mmount\u001b[0m\u001b[1;33m(\u001b[0m\u001b[1;34m'/content/drive'\u001b[0m\u001b[1;33m)\u001b[0m\u001b[1;33m\u001b[0m\u001b[1;33m\u001b[0m\u001b[0m\n",
      "\u001b[1;31mModuleNotFoundError\u001b[0m: No module named 'google.colab'"
     ]
    }
   ],
   "source": [
    "from google.colab import drive\n",
    "drive.mount('/content/drive')"
   ]
  },
  {
   "cell_type": "code",
   "execution_count": null,
   "metadata": {
    "id": "vPQnYD-2TSjn"
   },
   "outputs": [],
   "source": [
    "# !ngrok config add-authtoken \"your authtoken here that you can get from http://ngrok.com\"\n",
    "# 본인 팀의 authtoken을 HERE 대신 입력해주세요 (따옴표 없이!!!)\n",
    "!ngrok authtoken 29ls69f9lbitjgue1hVYhFlG0ka_5UM3qumeWMPuXnC5opqwy"
   ]
  },
  {
   "cell_type": "markdown",
   "metadata": {
    "id": "-fCz7VZC7AHz"
   },
   "source": [
    "# Example 0\n",
    "Example from https://flask.palletsprojects.com/en/1.1.x/quickstart/ modified to work in google colab using flask_ngrok."
   ]
  },
  {
   "cell_type": "code",
   "execution_count": null,
   "metadata": {
    "id": "FTpXnotTRu48"
   },
   "outputs": [],
   "source": [
    "from flask_ngrok import run_with_ngrok\n",
    "from flask import Flask, render_template\n",
    "\n",
    "app = Flask(__name__)\n",
    "run_with_ngrok(app)\n",
    "\n",
    "@app.route('/')\n",
    "def hello_world():\n",
    "  return 'Hello, World!'\n",
    "\n",
    "app.run()"
   ]
  },
  {
   "cell_type": "markdown",
   "metadata": {
    "id": "V-N__65I7MmV"
   },
   "source": [
    "# Example 1\n",
    "\n",
    "Example using bootstrap 4. Various tutorials on html and bootstrap can be found at w3schools and other websites."
   ]
  },
  {
   "cell_type": "code",
   "execution_count": null,
   "metadata": {
    "id": "JsRyOB8J7bzO"
   },
   "outputs": [],
   "source": [
    "text = '''\n",
    "<!doctype html>\n",
    "<html lang=\"en\">\n",
    "  <head>\n",
    "    <meta charset=\"utf-8\">\n",
    "    <meta name=\"viewport\" content=\"width=device-width, initial-scale=1\">\n",
    "\n",
    "    <title>Minimal Bootstrap Example in Flask</title>\n",
    "    <link href=\"https://getbootstrap.com/docs/4.0/dist/css/bootstrap.min.css\" rel=\"stylesheet\">\n",
    "  </head>\n",
    "\n",
    "  <body>\n",
    "\n",
    "    <nav class=\"navbar navbar-expand-md navbar-dark bg-dark fixed-top\">\n",
    "      <a class=\"navbar-brand\" href=\"#\">Navbar</a>\n",
    "      <button class=\"navbar-toggler\" type=\"button\" data-toggle=\"collapse\" data-target=\"#navbarsExampleDefault\" aria-controls=\"navbarsExampleDefault\" aria-expanded=\"false\" aria-label=\"Toggle navigation\">\n",
    "        <span class=\"navbar-toggler-icon\"></span>\n",
    "      </button>\n",
    "\n",
    "      <div class=\"collapse navbar-collapse\" id=\"navbarsExampleDefault\">\n",
    "        <ul class=\"navbar-nav mr-auto\">\n",
    "          <li class=\"nav-item active\">\n",
    "            <a class=\"nav-link\" href=\"#\">Home <span class=\"sr-only\">(current)</span></a>\n",
    "          </li>\n",
    "          <li class=\"nav-item\">\n",
    "            <a class=\"nav-link\" href=\"#\">Link</a>\n",
    "          </li>\n",
    "          <li class=\"nav-item\">\n",
    "            <a class=\"nav-link disabled\" href=\"#\">Disabled</a>\n",
    "          </li>\n",
    "          <li class=\"nav-item dropdown\">\n",
    "            <a class=\"nav-link dropdown-toggle\" href=\"http://example.com\" id=\"dropdown01\" data-toggle=\"dropdown\" aria-haspopup=\"true\" aria-expanded=\"false\">Dropdown</a>\n",
    "            <div class=\"dropdown-menu\" aria-labelledby=\"dropdown01\">\n",
    "              <a class=\"dropdown-item\" href=\"#\">Action</a>\n",
    "              <a class=\"dropdown-item\" href=\"#\">Another action</a>\n",
    "              <a class=\"dropdown-item\" href=\"#\">Something else here</a>\n",
    "            </div>\n",
    "          </li>\n",
    "        </ul>\n",
    "        <form class=\"form-inline my-2 my-lg-0\">\n",
    "          <input class=\"form-control mr-sm-2\" type=\"text\" placeholder=\"Search\" aria-label=\"Search\">\n",
    "          <button class=\"btn btn-outline-success my-2 my-sm-0\" type=\"submit\">Search</button>\n",
    "        </form>\n",
    "      </div>\n",
    "    </nav>\n",
    "\n",
    "    <main role=\"main\" class=\"container\">\n",
    "\n",
    "      <div class=\"start\">\n",
    "        <h1>Bootstrap start</h1>\n",
    "        <p class=\"lead\">Brief Example of using bootstrap.<br> \n",
    "                        Good examples on bootstrap usage are available at <a href=\"https://www.w3schools.com/\">W3schools.com</a> and <a href=\"https://www.getbootstrap.com/\">getbootstrap.com!</a>.</p>\n",
    "      </div>\n",
    "\n",
    "    </main>\n",
    "  </body>\n",
    "</html>\n",
    "'''\n",
    "!mkdir templates\n",
    "file = open(\"templates/text.html\",\"w\")\n",
    "file.write(text)\n",
    "file.close()"
   ]
  },
  {
   "cell_type": "markdown",
   "metadata": {
    "id": "Tm7jFRFI7qwg"
   },
   "source": [
    "Now we'll load the app to a temporary url."
   ]
  },
  {
   "cell_type": "code",
   "execution_count": null,
   "metadata": {
    "id": "LcEAnVpO8C4r"
   },
   "outputs": [],
   "source": [
    "!pip install flask_ngrok\n",
    "from flask_ngrok import run_with_ngrok\n",
    "from flask import Flask, render_template\n",
    "app = Flask(__name__)\n",
    "run_with_ngrok(app)\n",
    "@app.route('/')\n",
    "def text():\n",
    "  return render_template('text.html')\n",
    "\n",
    "app.run()"
   ]
  },
  {
   "cell_type": "markdown",
   "metadata": {
    "id": "mLdxWLTv8dnM"
   },
   "source": [
    "# Example 2\n",
    "\n",
    "Let's use jinja templating to include an existing html file\n",
    "\n",
    "First let's create an html file for a navigation bar that we might anticipate using"
   ]
  },
  {
   "cell_type": "code",
   "execution_count": null,
   "metadata": {
    "id": "X4HkkruG8adQ"
   },
   "outputs": [],
   "source": [
    "!pip install flask_ngrok\n",
    "from flask_ngrok import run_with_ngrok\n",
    "from flask import Flask, render_template\n",
    "\n",
    "navbar = '''\n",
    "<!doctype html>\n",
    "<html lang=\"en\">\n",
    "  <head>\n",
    "    <meta charset=\"utf-8\">\n",
    "    <meta name=\"viewport\" content=\"width=device-width, initial-scale=1\">\n",
    "\n",
    "    <title>Minimal Bootstrap Example in Flask</title>\n",
    "    <link href=\"https://getbootstrap.com/docs/4.0/dist/css/bootstrap.min.css\" rel=\"stylesheet\">\n",
    "  </head>\n",
    "  <nav class=\"navbar navbar-expand-lg navbar-light bg-light\">\n",
    "    <a class=\"navbar-brand\" href=\"#\">Navbar</a>\n",
    "    <button class=\"navbar-toggler\" type=\"button\" data-toggle=\"collapse\" data-target=\"#navbarSupportedContent\" aria-controls=\"navbarSupportedContent\" aria-expanded=\"false\" aria-label=\"Toggle navigation\">\n",
    "      <span class=\"navbar-toggler-icon\"></span>\n",
    "    </button>\n",
    "\n",
    "    <div class=\"collapse navbar-collapse\" id=\"navbarSupportedContent\">\n",
    "      <ul class=\"navbar-nav mr-auto\">\n",
    "        <li class=\"nav-item active\">\n",
    "          <a class=\"nav-link\" href=\"#\">Home <span class=\"sr-only\">(current)</span></a>\n",
    "        </li>\n",
    "        <li class=\"nav-item\">\n",
    "          <a class=\"nav-link\" href=\"#\">Link</a>\n",
    "        </li>\n",
    "        <li class=\"nav-item dropdown\">\n",
    "          <a class=\"nav-link dropdown-toggle\" href=\"#\" id=\"navbarDropdown\" role=\"button\" data-toggle=\"dropdown\" aria-haspopup=\"true\" aria-expanded=\"false\">\n",
    "          Dropdown\n",
    "          </a>\n",
    "          <div class=\"dropdown-menu\" aria-labelledby=\"navbarDropdown\">\n",
    "            <a class=\"dropdown-item\" href=\"#\">Action</a>\n",
    "            <a class=\"dropdown-item\" href=\"#\">Another action</a>\n",
    "            <div class=\"dropdown-divider\"></div>\n",
    "            <a class=\"dropdown-item\" href=\"#\">Something else here</a>\n",
    "          </div>\n",
    "        </li>\n",
    "        <li class=\"nav-item\">\n",
    "          <a class=\"nav-link disabled\" href=\"#\">Disabled</a>\n",
    "        </li>\n",
    "      </ul>\n",
    "      <form class=\"form-inline my-2 my-lg-0\">\n",
    "        <input class=\"form-control mr-sm-2\" type=\"search\" placeholder=\"Search\" aria-label=\"Search\">\n",
    "        <button class=\"btn btn-outline-success my-2 my-sm-0\" type=\"submit\">Search</button>\n",
    "      </form>\n",
    "    </div>\n",
    "  </nav>\n",
    "'''\n",
    "file = open(\"templates/navbar.html\",\"w\")\n",
    "file.write(navbar)\n",
    "file.close()    "
   ]
  },
  {
   "cell_type": "markdown",
   "metadata": {
    "id": "131d2Qkb85bf"
   },
   "source": [
    "Let's check out the navbar"
   ]
  },
  {
   "cell_type": "code",
   "execution_count": null,
   "metadata": {
    "id": "R9gggjrB9EHq"
   },
   "outputs": [],
   "source": [
    "!pip install flask_ngrok\n",
    "from flask_ngrok import run_with_ngrok\n",
    "from flask import Flask, render_template\n",
    "\n",
    "app = Flask(__name__)\n",
    "run_with_ngrok(app)\n",
    "@app.route('/')\n",
    "def text():\n",
    "  return render_template('navbar.html')\n",
    "\n",
    "app.run()"
   ]
  },
  {
   "cell_type": "markdown",
   "metadata": {
    "id": "drsElttR9v7O"
   },
   "source": [
    "We can use these html files in other html files using jinja templating. We'll just use the include to include the navbar template and return the rendered contents of that file into a new file.\n"
   ]
  },
  {
   "cell_type": "code",
   "execution_count": null,
   "metadata": {
    "id": "4Tutgm5F9drg"
   },
   "outputs": [],
   "source": [
    "includes = '''\n",
    "{% include \"navbar.html\" %}\n",
    "<body>\n",
    "  <h1> This is a child template including navbar.html </h1>\n",
    "</body>\n",
    "'''\n",
    "file = open('templates/includes.html', 'w')\n",
    "file.write(includes)\n",
    "file.close()"
   ]
  },
  {
   "cell_type": "code",
   "execution_count": null,
   "metadata": {
    "id": "GV4lb6XiB2Z6"
   },
   "outputs": [],
   "source": [
    "!pip install flask_ngrok\n",
    "from flask_ngrok import run_with_ngrok\n",
    "from flask import Flask, render_template\n",
    "\n",
    "app = Flask(__name__)\n",
    "run_with_ngrok(app)\n",
    "@app.route('/')\n",
    "def includes():\n",
    "  return render_template('includes.html')\n",
    "\n",
    "app.run()"
   ]
  }
 ],
 "metadata": {
  "colab": {
   "collapsed_sections": [],
   "include_colab_link": true,
   "name": "Flask_on_colab.ipynb",
   "private_outputs": true,
   "provenance": []
  },
  "kernelspec": {
   "display_name": "Python 3 (ipykernel)",
   "language": "python",
   "name": "python3"
  },
  "language_info": {
   "codemirror_mode": {
    "name": "ipython",
    "version": 3
   },
   "file_extension": ".py",
   "mimetype": "text/x-python",
   "name": "python",
   "nbconvert_exporter": "python",
   "pygments_lexer": "ipython3",
   "version": "3.9.7"
  }
 },
 "nbformat": 4,
 "nbformat_minor": 1
}
