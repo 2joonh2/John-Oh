{
  "nbformat": 4,
  "nbformat_minor": 0,
  "metadata": {
    "colab": {
      "name": "Flask_on_colab.ipynb",
      "provenance": [],
      "collapsed_sections": [],
      "private_outputs": true,
      "include_colab_link": true
    },
    "kernelspec": {
      "name": "python3",
      "display_name": "Python 3"
    },
    "language_info": {
      "name": "python"
    }
  },
  "cells": [
    {
      "cell_type": "markdown",
      "metadata": {
        "id": "view-in-github",
        "colab_type": "text"
      },
      "source": [
        "<a href=\"https://colab.research.google.com/github/2joonh2/John-Oh/blob/main/Flask_on_colab.ipynb\" target=\"_parent\"><img src=\"https://colab.research.google.com/assets/colab-badge.svg\" alt=\"Open In Colab\"/></a>"
      ]
    },
    {
      "cell_type": "code",
      "source": [
        "!pip install flask_ngrok -qq"
      ],
      "metadata": {
        "id": "mCW4xoUiSM-V"
      },
      "execution_count": null,
      "outputs": []
    },
    {
      "cell_type": "code",
      "source": [
        "!curl -s https://ngrok-agent.s3.amazonaws.com/ngrok.asc | sudo tee /etc/apt/trusted.gpg.d/ngrok.asc >/dev/null && echo \"deb https://ngrok-agent.s3.amazonaws.com buster main\" | sudo tee /etc/apt/sources.list.d/ngrok.list && sudo apt update && sudo apt install ngrok"
      ],
      "metadata": {
        "id": "XE-WIf9QCtn0"
      },
      "execution_count": null,
      "outputs": []
    },
    {
      "cell_type": "code",
      "source": [
        "!ls"
      ],
      "metadata": {
        "id": "YNu6QU-fTWCJ"
      },
      "execution_count": null,
      "outputs": []
    },
    {
      "cell_type": "code",
      "source": [
        "from google.colab import drive\n",
        "drive.mount('/content/drive')"
      ],
      "metadata": {
        "id": "i9eoOFL8bphV"
      },
      "execution_count": null,
      "outputs": []
    },
    {
      "cell_type": "code",
      "source": [
        "# !ngrok config add-authtoken \"your authtoken here that you can get from http://ngrok.com\"\n",
        "# 본인 팀의 authtoken을 HERE 대신 입력해주세요 (따옴표 없이!!!)\n",
        "!ngrok authtoken 29jGmjuzAzSr0XdZhuUfOa5eXPS_4vjq6YbVmSNVRj4hJNMC1"
      ],
      "metadata": {
        "id": "vPQnYD-2TSjn"
      },
      "execution_count": null,
      "outputs": []
    },
    {
      "cell_type": "markdown",
      "source": [
        "#Example 0\n",
        "Example from https://flask.palletsprojects.com/en/1.1.x/quickstart/ modified to work in google colab using flask_ngrok."
      ],
      "metadata": {
        "id": "-fCz7VZC7AHz"
      }
    },
    {
      "cell_type": "code",
      "execution_count": null,
      "metadata": {
        "id": "FTpXnotTRu48"
      },
      "outputs": [],
      "source": [
        "from flask_ngrok import run_with_ngrok\n",
        "from flask import Flask, render_template\n",
        "\n",
        "app = Flask(__name__)\n",
        "run_with_ngrok(app)\n",
        "\n",
        "@app.route('/')\n",
        "def hello_world():\n",
        "  return 'Hello, World!'\n",
        "\n",
        "app.run()"
      ]
    },
    {
      "cell_type": "markdown",
      "source": [
        "#Example 1\n",
        "\n",
        "Example using bootstrap 4. Various tutorials on html and bootstrap can be found at w3schools and other websites."
      ],
      "metadata": {
        "id": "V-N__65I7MmV"
      }
    },
    {
      "cell_type": "code",
      "source": [
        "text = '''\n",
        "<!doctype html>\n",
        "<html lang=\"en\">\n",
        "  <head>\n",
        "    <meta charset=\"utf-8\">\n",
        "    <meta name=\"viewport\" content=\"width=device-width, initial-scale=1\">\n",
        "\n",
        "    <title>Minimal Bootstrap Example in Flask</title>\n",
        "    <link href=\"https://getbootstrap.com/docs/4.0/dist/css/bootstrap.min.css\" rel=\"stylesheet\">\n",
        "  </head>\n",
        "\n",
        "  <body>\n",
        "\n",
        "    <nav class=\"navbar navbar-expand-md navbar-dark bg-dark fixed-top\">\n",
        "      <a class=\"navbar-brand\" href=\"#\">Navbar</a>\n",
        "      <button class=\"navbar-toggler\" type=\"button\" data-toggle=\"collapse\" data-target=\"#navbarsExampleDefault\" aria-controls=\"navbarsExampleDefault\" aria-expanded=\"false\" aria-label=\"Toggle navigation\">\n",
        "        <span class=\"navbar-toggler-icon\"></span>\n",
        "      </button>\n",
        "\n",
        "      <div class=\"collapse navbar-collapse\" id=\"navbarsExampleDefault\">\n",
        "        <ul class=\"navbar-nav mr-auto\">\n",
        "          <li class=\"nav-item active\">\n",
        "            <a class=\"nav-link\" href=\"#\">Home <span class=\"sr-only\">(current)</span></a>\n",
        "          </li>\n",
        "          <li class=\"nav-item\">\n",
        "            <a class=\"nav-link\" href=\"#\">Link</a>\n",
        "          </li>\n",
        "          <li class=\"nav-item\">\n",
        "            <a class=\"nav-link disabled\" href=\"#\">Disabled</a>\n",
        "          </li>\n",
        "          <li class=\"nav-item dropdown\">\n",
        "            <a class=\"nav-link dropdown-toggle\" href=\"http://example.com\" id=\"dropdown01\" data-toggle=\"dropdown\" aria-haspopup=\"true\" aria-expanded=\"false\">Dropdown</a>\n",
        "            <div class=\"dropdown-menu\" aria-labelledby=\"dropdown01\">\n",
        "              <a class=\"dropdown-item\" href=\"#\">Action</a>\n",
        "              <a class=\"dropdown-item\" href=\"#\">Another action</a>\n",
        "              <a class=\"dropdown-item\" href=\"#\">Something else here</a>\n",
        "            </div>\n",
        "          </li>\n",
        "        </ul>\n",
        "        <form class=\"form-inline my-2 my-lg-0\">\n",
        "          <input class=\"form-control mr-sm-2\" type=\"text\" placeholder=\"Search\" aria-label=\"Search\">\n",
        "          <button class=\"btn btn-outline-success my-2 my-sm-0\" type=\"submit\">Search</button>\n",
        "        </form>\n",
        "      </div>\n",
        "    </nav>\n",
        "\n",
        "    <main role=\"main\" class=\"container\">\n",
        "\n",
        "      <div class=\"start\">\n",
        "        <h1>Bootstrap start</h1>\n",
        "        <p class=\"lead\">Brief Example of using bootstrap.<br> \n",
        "                        Good examples on bootstrap usage are available at <a href=\"https://www.w3schools.com/\">W3schools.com</a> and <a href=\"https://www.getbootstrap.com/\">getbootstrap.com!</a>.</p>\n",
        "      </div>\n",
        "\n",
        "    </main>\n",
        "  </body>\n",
        "</html>\n",
        "'''\n",
        "!mkdir templates\n",
        "file = open(\"templates/text.html\",\"w\")\n",
        "file.write(text)\n",
        "file.close()"
      ],
      "metadata": {
        "id": "JsRyOB8J7bzO"
      },
      "execution_count": null,
      "outputs": []
    },
    {
      "cell_type": "markdown",
      "source": [
        "Now we'll load the app to a temporary url."
      ],
      "metadata": {
        "id": "Tm7jFRFI7qwg"
      }
    },
    {
      "cell_type": "code",
      "source": [
        "!pip install flask_ngrok\n",
        "from flask_ngrok import run_with_ngrok\n",
        "from flask import Flask, render_template\n",
        "app = Flask(__name__)\n",
        "run_with_ngrok(app)\n",
        "@app.route('/')\n",
        "def text():\n",
        "  return render_template('text.html')\n",
        "\n",
        "app.run()"
      ],
      "metadata": {
        "id": "LcEAnVpO8C4r"
      },
      "execution_count": null,
      "outputs": []
    },
    {
      "cell_type": "markdown",
      "source": [
        "#Example 2\n",
        "\n",
        "Let's use jinja templating to include an existing html file\n",
        "\n",
        "First let's create an html file for a navigation bar that we might anticipate using"
      ],
      "metadata": {
        "id": "mLdxWLTv8dnM"
      }
    },
    {
      "cell_type": "code",
      "source": [
        "!pip install flask_ngrok\n",
        "from flask_ngrok import run_with_ngrok\n",
        "from flask import Flask, render_template\n",
        "\n",
        "navbar = '''\n",
        "<!doctype html>\n",
        "<html lang=\"en\">\n",
        "  <head>\n",
        "    <meta charset=\"utf-8\">\n",
        "    <meta name=\"viewport\" content=\"width=device-width, initial-scale=1\">\n",
        "\n",
        "    <title>Minimal Bootstrap Example in Flask</title>\n",
        "    <link href=\"https://getbootstrap.com/docs/4.0/dist/css/bootstrap.min.css\" rel=\"stylesheet\">\n",
        "  </head>\n",
        "  <nav class=\"navbar navbar-expand-lg navbar-light bg-light\">\n",
        "    <a class=\"navbar-brand\" href=\"#\">Navbar</a>\n",
        "    <button class=\"navbar-toggler\" type=\"button\" data-toggle=\"collapse\" data-target=\"#navbarSupportedContent\" aria-controls=\"navbarSupportedContent\" aria-expanded=\"false\" aria-label=\"Toggle navigation\">\n",
        "      <span class=\"navbar-toggler-icon\"></span>\n",
        "    </button>\n",
        "\n",
        "    <div class=\"collapse navbar-collapse\" id=\"navbarSupportedContent\">\n",
        "      <ul class=\"navbar-nav mr-auto\">\n",
        "        <li class=\"nav-item active\">\n",
        "          <a class=\"nav-link\" href=\"#\">Home <span class=\"sr-only\">(current)</span></a>\n",
        "        </li>\n",
        "        <li class=\"nav-item\">\n",
        "          <a class=\"nav-link\" href=\"#\">Link</a>\n",
        "        </li>\n",
        "        <li class=\"nav-item dropdown\">\n",
        "          <a class=\"nav-link dropdown-toggle\" href=\"#\" id=\"navbarDropdown\" role=\"button\" data-toggle=\"dropdown\" aria-haspopup=\"true\" aria-expanded=\"false\">\n",
        "          Dropdown\n",
        "          </a>\n",
        "          <div class=\"dropdown-menu\" aria-labelledby=\"navbarDropdown\">\n",
        "            <a class=\"dropdown-item\" href=\"#\">Action</a>\n",
        "            <a class=\"dropdown-item\" href=\"#\">Another action</a>\n",
        "            <div class=\"dropdown-divider\"></div>\n",
        "            <a class=\"dropdown-item\" href=\"#\">Something else here</a>\n",
        "          </div>\n",
        "        </li>\n",
        "        <li class=\"nav-item\">\n",
        "          <a class=\"nav-link disabled\" href=\"#\">Disabled</a>\n",
        "        </li>\n",
        "      </ul>\n",
        "      <form class=\"form-inline my-2 my-lg-0\">\n",
        "        <input class=\"form-control mr-sm-2\" type=\"search\" placeholder=\"Search\" aria-label=\"Search\">\n",
        "        <button class=\"btn btn-outline-success my-2 my-sm-0\" type=\"submit\">Search</button>\n",
        "      </form>\n",
        "    </div>\n",
        "  </nav>\n",
        "'''\n",
        "file = open(\"templates/navbar.html\",\"w\")\n",
        "file.write(navbar)\n",
        "file.close()    "
      ],
      "metadata": {
        "id": "X4HkkruG8adQ"
      },
      "execution_count": null,
      "outputs": []
    },
    {
      "cell_type": "markdown",
      "source": [
        "Let's check out the navbar"
      ],
      "metadata": {
        "id": "131d2Qkb85bf"
      }
    },
    {
      "cell_type": "code",
      "source": [
        "!pip install flask_ngrok\n",
        "from flask_ngrok import run_with_ngrok\n",
        "from flask import Flask, render_template\n",
        "\n",
        "app = Flask(__name__)\n",
        "run_with_ngrok(app)\n",
        "@app.route('/')\n",
        "def text():\n",
        "  return render_template('navbar.html')\n",
        "\n",
        "app.run()"
      ],
      "metadata": {
        "id": "R9gggjrB9EHq"
      },
      "execution_count": null,
      "outputs": []
    },
    {
      "cell_type": "markdown",
      "source": [
        "We can use these html files in other html files using jinja templating. We'll just use the include to include the navbar template and return the rendered contents of that file into a new file.\n"
      ],
      "metadata": {
        "id": "drsElttR9v7O"
      }
    },
    {
      "cell_type": "code",
      "source": [
        "includes = '''\n",
        "{% include \"navbar.html\" %}\n",
        "<body>\n",
        "  <h1> This is a child template including navbar.html </h1>\n",
        "</body>\n",
        "'''\n",
        "file = open('templates/includes.html', 'w')\n",
        "file.write(includes)\n",
        "file.close()"
      ],
      "metadata": {
        "id": "4Tutgm5F9drg"
      },
      "execution_count": null,
      "outputs": []
    },
    {
      "cell_type": "code",
      "source": [
        "!pip install flask_ngrok\n",
        "from flask_ngrok import run_with_ngrok\n",
        "from flask import Flask, render_template\n",
        "\n",
        "app = Flask(__name__)\n",
        "run_with_ngrok(app)\n",
        "@app.route('/')\n",
        "def includes():\n",
        "  return render_template('includes.html')\n",
        "\n",
        "app.run()"
      ],
      "metadata": {
        "id": "GV4lb6XiB2Z6"
      },
      "execution_count": null,
      "outputs": []
    }
  ]
}