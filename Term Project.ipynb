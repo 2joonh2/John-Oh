{
 "cells": [
  {
   "cell_type": "markdown",
   "metadata": {},
   "source": [
    "[Reference](https://github.com/msahamed/yelp_comments_classification_nlp)"
   ]
  },
  {
   "cell_type": "markdown",
   "metadata": {},
   "source": [
    "# <b>Introduction<b>"
   ]
  },
  {
   "cell_type": "markdown",
   "metadata": {},
   "source": [
    "* The reviews contain a lot of metadata that can be mined and used to infer meaning, business attributes, and sentiment.\n",
    "* For simplicity, I classify the review comments into two class: either as positive or negative. \n",
    "* Reviews that have star higher than three are regarded as positive while the reviews with star less than or equal to 3 are negative. \n",
    "* Therefore, the problem is a supervised learning. \n",
    "* To build and train the model, I first tokenize the text and convert them to sequences.\n",
    "* Each review comment is limited to 50 words. \n",
    "* As a result, short texts less than 50 words are padded with zeros, and long ones are truncated."
   ]
  },
  {
   "cell_type": "markdown",
   "metadata": {},
   "source": [
    "## <b>Import libraries<b>"
   ]
  },
  {
   "cell_type": "code",
   "execution_count": 6,
   "metadata": {},
   "outputs": [
    {
     "data": {
      "text/html": [
       "        <script type=\"text/javascript\">\n",
       "        window.PlotlyConfig = {MathJaxConfig: 'local'};\n",
       "        if (window.MathJax && window.MathJax.Hub && window.MathJax.Hub.Config) {window.MathJax.Hub.Config({SVG: {font: \"STIX-Web\"}});}\n",
       "        if (typeof require !== 'undefined') {\n",
       "        require.undef(\"plotly\");\n",
       "        requirejs.config({\n",
       "            paths: {\n",
       "                'plotly': ['https://cdn.plot.ly/plotly-2.12.1.min']\n",
       "            }\n",
       "        });\n",
       "        require(['plotly'], function(Plotly) {\n",
       "            window._Plotly = Plotly;\n",
       "        });\n",
       "        }\n",
       "        </script>\n",
       "        "
      ]
     },
     "metadata": {},
     "output_type": "display_data"
    }
   ],
   "source": [
    "# Keras\n",
    "from keras.preprocessing.text import Tokenizer\n",
    "from keras_preprocessing.sequence import pad_sequences\n",
    "from keras.models import Sequential\n",
    "from keras.layers import Dense, Flatten, LSTM, Conv1D, MaxPooling1D, Dropout, Activation\n",
    "from tensorflow.keras.layers import Embedding\n",
    "\n",
    "## Plot\n",
    "import plotly.offline as py\n",
    "import plotly.graph_objs as go\n",
    "py.init_notebook_mode(connected=True)\n",
    "import matplotlib as plt\n",
    "\n",
    "# NLTK\n",
    "import nltk\n",
    "# nltk.download('stopwords')\n",
    "from nltk.corpus import stopwords\n",
    "from nltk.stem import SnowballStemmer\n",
    "\n",
    "# Other\n",
    "import re\n",
    "import string\n",
    "import numpy as np\n",
    "import pickle\n",
    "import pandas as pd\n",
    "from sklearn.manifold import TSNE"
   ]
  },
  {
   "cell_type": "markdown",
   "metadata": {},
   "source": [
    "## Import Data"
   ]
  },
  {
   "cell_type": "code",
   "execution_count": 2,
   "metadata": {},
   "outputs": [],
   "source": [
    "# import wget\n",
    "# wget.download('https://s3.amazonaws.com/fast-ai-nlp/yelp_review_polarity_csv.tgz')\n",
    "# please unzip manually and control directory"
   ]
  },
  {
   "cell_type": "markdown",
   "metadata": {},
   "source": [
    "## <b> Data Processing<b>"
   ]
  },
  {
   "cell_type": "code",
   "execution_count": 3,
   "metadata": {},
   "outputs": [],
   "source": [
    "# train = pd.read_csv('train.csv', sep = '|', , error_bad_lines=False)\n",
    "train=pd.read_csv('D:/yelp_review_polarity_csv/train.csv', names = ['stars', 'text'])\n",
    "test=pd.read_csv('D:/yelp_review_polarity_csv/test.csv', names = ['stars', 'text'])"
   ]
  },
  {
   "cell_type": "code",
   "execution_count": 4,
   "metadata": {},
   "outputs": [
    {
     "data": {
      "text/html": [
       "<div>\n",
       "<style scoped>\n",
       "    .dataframe tbody tr th:only-of-type {\n",
       "        vertical-align: middle;\n",
       "    }\n",
       "\n",
       "    .dataframe tbody tr th {\n",
       "        vertical-align: top;\n",
       "    }\n",
       "\n",
       "    .dataframe thead th {\n",
       "        text-align: right;\n",
       "    }\n",
       "</style>\n",
       "<table border=\"1\" class=\"dataframe\">\n",
       "  <thead>\n",
       "    <tr style=\"text-align: right;\">\n",
       "      <th></th>\n",
       "      <th>stars</th>\n",
       "      <th>text</th>\n",
       "    </tr>\n",
       "  </thead>\n",
       "  <tbody>\n",
       "    <tr>\n",
       "      <th>0</th>\n",
       "      <td>1</td>\n",
       "      <td>Unfortunately, the frustration of being Dr. Go...</td>\n",
       "    </tr>\n",
       "    <tr>\n",
       "      <th>1</th>\n",
       "      <td>2</td>\n",
       "      <td>Been going to Dr. Goldberg for over 10 years. ...</td>\n",
       "    </tr>\n",
       "    <tr>\n",
       "      <th>2</th>\n",
       "      <td>1</td>\n",
       "      <td>I don't know what Dr. Goldberg was like before...</td>\n",
       "    </tr>\n",
       "    <tr>\n",
       "      <th>3</th>\n",
       "      <td>1</td>\n",
       "      <td>I'm writing this review to give you a heads up...</td>\n",
       "    </tr>\n",
       "    <tr>\n",
       "      <th>4</th>\n",
       "      <td>2</td>\n",
       "      <td>All the food is great here. But the best thing...</td>\n",
       "    </tr>\n",
       "  </tbody>\n",
       "</table>\n",
       "</div>"
      ],
      "text/plain": [
       "   stars                                               text\n",
       "0      1  Unfortunately, the frustration of being Dr. Go...\n",
       "1      2  Been going to Dr. Goldberg for over 10 years. ...\n",
       "2      1  I don't know what Dr. Goldberg was like before...\n",
       "3      1  I'm writing this review to give you a heads up...\n",
       "4      2  All the food is great here. But the best thing..."
      ]
     },
     "execution_count": 4,
     "metadata": {},
     "output_type": "execute_result"
    }
   ],
   "source": [
    "train.head()"
   ]
  },
  {
   "cell_type": "code",
   "execution_count": 5,
   "metadata": {},
   "outputs": [],
   "source": [
    "# train = train.dropna()\n",
    "# train = train[train.stars.apply(lambda x: x.isnumeric())]\n",
    "# train = train[train.stars.apply(lambda x: x !=\"\")]\n",
    "# train = train[train.text.apply(lambda x: x !=\"\")]\n",
    "\n",
    "# train.describe()"
   ]
  },
  {
   "cell_type": "markdown",
   "metadata": {},
   "source": [
    "### Convert five classes into two classes (positive = 1 and negative = 0)\n",
    "\n",
    "Since the main purpose is to identify positive or negative comments, I convert five class star category into two classes: \n",
    "\n",
    "- (1) Positive: comments with stars > 3 and \n",
    "- (2) Negative: comments with stars <= 3"
   ]
  },
  {
   "cell_type": "code",
   "execution_count": 6,
   "metadata": {},
   "outputs": [],
   "source": [
    "# labels = train['stars'].map(lambda x : 1 if int(x) > 3 else 0)\n",
    "train_labels = train['stars'].map(lambda x : 0 if int(x) == 1 else 1)\n",
    "test_labels = test['stars'].map(lambda x : 0 if int(x) == 1 else 1)\n",
    "\n",
    "train['labels']=train_labels\n",
    "test['labels']=test_labels"
   ]
  },
  {
   "cell_type": "code",
   "execution_count": 7,
   "metadata": {},
   "outputs": [],
   "source": [
    "y_train=np.array(train_labels)\n",
    "y_test=np.array(test_labels)"
   ]
  },
  {
   "cell_type": "code",
   "execution_count": 8,
   "metadata": {},
   "outputs": [
    {
     "data": {
      "text/plain": [
       "array([1, 0, 1, ..., 0, 0, 0], dtype=int64)"
      ]
     },
     "execution_count": 8,
     "metadata": {},
     "output_type": "execute_result"
    }
   ],
   "source": [
    "y_test"
   ]
  },
  {
   "cell_type": "markdown",
   "metadata": {},
   "source": [
    "### Tokenize text data\n",
    "\n",
    "- Because of the computational expenses, I use the top 20000 unique words.\n",
    "- First, tokenize the comments then convert those into sequences.\n",
    "- I keep 100 words to limit the number of words in each comment. "
   ]
  },
  {
   "cell_type": "code",
   "execution_count": 14,
   "metadata": {},
   "outputs": [],
   "source": [
    "def clean_text(text):\n",
    "    \n",
    "    ## Remove puncuation\n",
    "    text = text.translate(string.punctuation)\n",
    "    \n",
    "    ## Convert words to lower case and split them\n",
    "    text = text.lower().split()\n",
    "    \n",
    "    ## Remove stop words\n",
    "    stops = set(stopwords.words(\"english\"))\n",
    "    text = [w for w in text if not w in stops and len(w) >= 3]\n",
    "    \n",
    "    text = \" \".join(text)\n",
    "\n",
    "    # Clean the text\n",
    "    text = re.sub(r\"[^A-Za-z0-9^,!.\\/'+-=]\", \" \", text)\n",
    "    text = re.sub(r\"what's\", \"what is \", text)\n",
    "    text = re.sub(r\"\\'s\", \" \", text)\n",
    "    text = re.sub(r\"\\'ve\", \" have \", text)\n",
    "    text = re.sub(r\"n't\", \" not \", text)\n",
    "    text = re.sub(r\"i'm\", \"i am \", text)\n",
    "    text = re.sub(r\"\\'re\", \" are \", text)\n",
    "    text = re.sub(r\"\\'d\", \" would \", text)\n",
    "    text = re.sub(r\"\\'ll\", \" will \", text)\n",
    "    text = re.sub(r\",\", \" \", text)\n",
    "    text = re.sub(r\"\\.\", \" \", text)\n",
    "    text = re.sub(r\"!\", \" ! \", text)\n",
    "    text = re.sub(r\"\\/\", \" \", text)\n",
    "    text = re.sub(r\"\\^\", \" ^ \", text)\n",
    "    text = re.sub(r\"\\+\", \" + \", text)\n",
    "    text = re.sub(r\"\\-\", \" - \", text)\n",
    "    text = re.sub(r\"\\=\", \" = \", text)\n",
    "    text = re.sub(r\"'\", \" \", text)\n",
    "    text = re.sub(r\"(\\d+)(k)\", r\"\\g<1>000\", text)\n",
    "    text = re.sub(r\":\", \" : \", text)\n",
    "    text = re.sub(r\" e g \", \" eg \", text)\n",
    "    text = re.sub(r\" b g \", \" bg \", text)\n",
    "    text = re.sub(r\" u s \", \" american \", text)\n",
    "    text = re.sub(r\"\\0s\", \"0\", text)\n",
    "    text = re.sub(r\" 9 11 \", \"911\", text)\n",
    "    text = re.sub(r\"e - mail\", \"email\", text)\n",
    "    text = re.sub(r\"j k\", \"jk\", text)\n",
    "    text = re.sub(r\"\\s{2,}\", \" \", text)\n",
    "    \n",
    "    text = text.split()\n",
    "    stemmer = SnowballStemmer('english')\n",
    "    stemmed_words = [stemmer.stem(word) for word in text]\n",
    "    text = \" \".join(stemmed_words)\n",
    "\n",
    "    return text"
   ]
  },
  {
   "cell_type": "code",
   "execution_count": 10,
   "metadata": {},
   "outputs": [],
   "source": [
    "train['text'] = train['text'].map(lambda x: clean_text(x))\n",
    "test['text'] = test['text'].map(lambda x: clean_text(x))"
   ]
  },
  {
   "cell_type": "code",
   "execution_count": 11,
   "metadata": {},
   "outputs": [],
   "source": [
    "vocabulary_size = 20000\n",
    "\n",
    "# tokenizer\n",
    "tokenizer = Tokenizer(num_words=vocabulary_size) # 20000\n",
    "tokenizer.fit_on_texts(train['text'])"
   ]
  },
  {
   "cell_type": "code",
   "execution_count": 12,
   "metadata": {},
   "outputs": [],
   "source": [
    "# sequences = tokenizer.texts_to_sequences(test['text'])\n",
    "train_data=pad_sequences(tokenizer.texts_to_sequences(train['text']), maxlen=100)\n",
    "test_data=pad_sequences(tokenizer.texts_to_sequences(test['text']), maxlen=100)"
   ]
  },
  {
   "cell_type": "code",
   "execution_count": 13,
   "metadata": {},
   "outputs": [
    {
     "name": "stdout",
     "output_type": "stream",
     "text": [
      "train_data.shape:  (560000, 100)\n",
      "test_data.shape:  (38000, 100)\n"
     ]
    }
   ],
   "source": [
    "print(\"train_data.shape: \", train_data.shape)\n",
    "print(\"test_data.shape: \", test_data.shape)"
   ]
  },
  {
   "cell_type": "markdown",
   "metadata": {},
   "source": [
    "## <b>Build neural network with LSTM<b>"
   ]
  },
  {
   "cell_type": "markdown",
   "metadata": {},
   "source": [
    "### Network Architechture\n",
    "\n",
    "- The network starts with an embedding layer.\n",
    "- The layer lets the system expand each token to a more massive vector, allowing the network to represent a word in a meaningful way.\n",
    "- The layer takes 20000 as the first argument, which is the size of our vocabulary, and 100 as the second input parameter, which is the dimension of the embeddings.\n",
    "- The third parameter is the input_length of 100, which is the length of each comment sequence."
   ]
  },
  {
   "cell_type": "code",
   "execution_count": 14,
   "metadata": {},
   "outputs": [],
   "source": [
    "model=Sequential()\n",
    "model.add(Embedding(20000, 100, input_length=100))\n",
    "model.add(LSTM(100, dropout=0.2, recurrent_dropout=0.2))\n",
    "model.add(Dense(1, activation='sigmoid'))\n",
    "model.compile(loss='binary_crossentropy', optimizer='adam', metrics=['accuracy'])"
   ]
  },
  {
   "cell_type": "markdown",
   "metadata": {},
   "source": [
    "### Train the network"
   ]
  },
  {
   "cell_type": "code",
   "execution_count": 15,
   "metadata": {},
   "outputs": [
    {
     "name": "stdout",
     "output_type": "stream",
     "text": [
      "Epoch 1/10\n",
      "17500/17500 [==============================] - 826s 47ms/step - loss: 0.2039 - accuracy: 0.9183\n",
      "Epoch 2/10\n",
      "17500/17500 [==============================] - 891s 51ms/step - loss: 0.1524 - accuracy: 0.9405\n",
      "Epoch 3/10\n",
      "17500/17500 [==============================] - 918s 52ms/step - loss: 0.1282 - accuracy: 0.9503\n",
      "Epoch 4/10\n",
      "17500/17500 [==============================] - 930s 53ms/step - loss: 0.1098 - accuracy: 0.9581\n",
      "Epoch 5/10\n",
      "17500/17500 [==============================] - 927s 53ms/step - loss: 0.0949 - accuracy: 0.9642\n",
      "Epoch 6/10\n",
      "17500/17500 [==============================] - 928s 53ms/step - loss: 0.0836 - accuracy: 0.9686\n",
      "Epoch 7/10\n",
      "17500/17500 [==============================] - 938s 54ms/step - loss: 0.0754 - accuracy: 0.9721\n",
      "Epoch 8/10\n",
      "17500/17500 [==============================] - 943s 54ms/step - loss: 0.0681 - accuracy: 0.9747\n",
      "Epoch 9/10\n",
      "17500/17500 [==============================] - 954s 55ms/step - loss: 0.0631 - accuracy: 0.9767\n",
      "Epoch 10/10\n",
      "17500/17500 [==============================] - 951s 54ms/step - loss: 0.0597 - accuracy: 0.9779\n"
     ]
    },
    {
     "data": {
      "text/plain": [
       "<keras.callbacks.History at 0x1cf84b52f40>"
      ]
     },
     "execution_count": 15,
     "metadata": {},
     "output_type": "execute_result"
    }
   ],
   "source": [
    "model.fit(train_data, y_train, epochs=10)"
   ]
  },
  {
   "cell_type": "code",
   "execution_count": 16,
   "metadata": {},
   "outputs": [
    {
     "name": "stdout",
     "output_type": "stream",
     "text": [
      "1188/1188 [==============================] - 13s 11ms/step - loss: 0.2112 - accuracy: 0.9359\n"
     ]
    },
    {
     "data": {
      "text/plain": [
       "[0.211231991648674, 0.9358684420585632]"
      ]
     },
     "execution_count": 16,
     "metadata": {},
     "output_type": "execute_result"
    }
   ],
   "source": [
    "model.evaluate(test_data, y_test)"
   ]
  },
  {
   "cell_type": "markdown",
   "metadata": {},
   "source": [
    "## Build neural network with LSTM and CNN\n",
    "- The LSTM model worked well. \n",
    "- However, it takes forever to train three epochs. \n",
    "- One way to speed up the training time is to improve the network adding “Convolutional” layer. \n",
    "- Convolutional Neural Networks (CNN) come from image processing. They pass a “filter” over the data and calculate a higher-level representation. \n",
    "- They have been shown to work surprisingly well for text, even though they have none of the sequence processing ability of LSTMs."
   ]
  },
  {
   "cell_type": "code",
   "execution_count": 19,
   "metadata": {},
   "outputs": [],
   "source": [
    "def create_conv_model():\n",
    "    model_conv = Sequential()\n",
    "    model_conv.add(Embedding(vocabulary_size, 100, input_length=100))\n",
    "    model_conv.add(Dropout(0.2))\n",
    "    model_conv.add(Conv1D(64, 5, activation='relu'))\n",
    "    model_conv.add(MaxPooling1D(pool_size=4))\n",
    "    model_conv.add(LSTM(100))\n",
    "    model_conv.add(Dense(1, activation='sigmoid'))\n",
    "    model_conv.compile(loss='binary_crossentropy', optimizer='adam', metrics=['accuracy'])\n",
    "    return model_conv "
   ]
  },
  {
   "cell_type": "markdown",
   "metadata": {},
   "source": [
    "### Train the network"
   ]
  },
  {
   "cell_type": "code",
   "execution_count": 20,
   "metadata": {},
   "outputs": [
    {
     "name": "stdout",
     "output_type": "stream",
     "text": [
      "Epoch 1/10\n",
      "17500/17500 [==============================] - 362s 21ms/step - loss: 0.1933 - accuracy: 0.9222\n",
      "Epoch 2/10\n",
      "17500/17500 [==============================] - 362s 21ms/step - loss: 0.1474 - accuracy: 0.9428\n",
      "Epoch 3/10\n",
      "17500/17500 [==============================] - 360s 21ms/step - loss: 0.1225 - accuracy: 0.9533\n",
      "Epoch 4/10\n",
      "17500/17500 [==============================] - 359s 21ms/step - loss: 0.1031 - accuracy: 0.9612\n",
      "Epoch 5/10\n",
      "17500/17500 [==============================] - 359s 21ms/step - loss: 0.0885 - accuracy: 0.9672\n",
      "Epoch 6/10\n",
      "17500/17500 [==============================] - 362s 21ms/step - loss: 0.0775 - accuracy: 0.9713\n",
      "Epoch 7/10\n",
      "17500/17500 [==============================] - 361s 21ms/step - loss: 0.0698 - accuracy: 0.9740\n",
      "Epoch 8/10\n",
      "17500/17500 [==============================] - 361s 21ms/step - loss: 0.0638 - accuracy: 0.9765\n",
      "Epoch 9/10\n",
      "17500/17500 [==============================] - 362s 21ms/step - loss: 0.0586 - accuracy: 0.9784\n",
      "Epoch 10/10\n",
      "17500/17500 [==============================] - 365s 21ms/step - loss: 0.0552 - accuracy: 0.9797\n"
     ]
    },
    {
     "data": {
      "text/plain": [
       "<keras.callbacks.History at 0x1cf8b2fd490>"
      ]
     },
     "execution_count": 20,
     "metadata": {},
     "output_type": "execute_result"
    }
   ],
   "source": [
    "model_conv = create_conv_model()\n",
    "model_conv.fit(train_data, y_train, epochs=10)"
   ]
  },
  {
   "cell_type": "code",
   "execution_count": 21,
   "metadata": {},
   "outputs": [
    {
     "name": "stdout",
     "output_type": "stream",
     "text": [
      "1188/1188 [==============================] - 15s 13ms/step - loss: 0.2112 - accuracy: 0.9359\n"
     ]
    },
    {
     "data": {
      "text/plain": [
       "[0.211231991648674, 0.9358684420585632]"
      ]
     },
     "execution_count": 21,
     "metadata": {},
     "output_type": "execute_result"
    }
   ],
   "source": [
    "model.evaluate(test_data, y_test)"
   ]
  },
  {
   "cell_type": "markdown",
   "metadata": {},
   "source": [
    "## Word embedding visialization\n",
    "\n",
    "- In this subsection, I want to visualize word embedding weights obtained from trained models.\n",
    "- Word embeddings with 100 dimensions are first reduced to 2 dimensions using t-SNE.\n",
    "- Tensorflow has an excellent tool to visualize the embeddings in a great way, but here I just want to visualize the word relationship. "
   ]
  },
  {
   "cell_type": "markdown",
   "metadata": {},
   "source": [
    "### Get embedding weights from glove"
   ]
  },
  {
   "cell_type": "code",
   "execution_count": 22,
   "metadata": {},
   "outputs": [],
   "source": [
    "lstm_embds = model.layers[0].get_weights()[0]\n",
    "conv_embds = model_conv.layers[0].get_weights()[0]"
   ]
  },
  {
   "cell_type": "markdown",
   "metadata": {},
   "source": [
    "### Get word list "
   ]
  },
  {
   "cell_type": "code",
   "execution_count": 23,
   "metadata": {},
   "outputs": [],
   "source": [
    "word_list = []\n",
    "for word, i in tokenizer.word_index.items():\n",
    "    word_list.append(word)"
   ]
  },
  {
   "cell_type": "markdown",
   "metadata": {},
   "source": [
    "### Scatter plot of first two components of TSNE"
   ]
  },
  {
   "cell_type": "code",
   "execution_count": 24,
   "metadata": {},
   "outputs": [],
   "source": [
    "def plot_words(data, start, stop, step):\n",
    "    trace = go.Scatter(\n",
    "        x = data[start:stop:step, 0], \n",
    "        y = data[start:stop:step, 1],\n",
    "        mode = 'markers',\n",
    "        text= word_list[start:stop:step]\n",
    "    )\n",
    "    layout = dict(title= 't-SNE 1 vs t-SNE 2',\n",
    "                  yaxis = dict(title='t-SNE 2'),\n",
    "                  xaxis = dict(title='t-SNE 1'),\n",
    "                  hovermode= 'closest')\n",
    "    fig = dict(data = [trace], layout= layout)\n",
    "    py.iplot(fig)"
   ]
  },
  {
   "cell_type": "code",
   "execution_count": 25,
   "metadata": {},
   "outputs": [],
   "source": [
    "number_of_words = 100"
   ]
  },
  {
   "cell_type": "code",
   "execution_count": 26,
   "metadata": {},
   "outputs": [
    {
     "name": "stderr",
     "output_type": "stream",
     "text": [
      "C:\\Users\\Yoon\\anaconda3\\lib\\site-packages\\sklearn\\manifold\\_t_sne.py:780: FutureWarning:\n",
      "\n",
      "The default initialization in TSNE will change from 'random' to 'pca' in 1.2.\n",
      "\n",
      "C:\\Users\\Yoon\\anaconda3\\lib\\site-packages\\sklearn\\manifold\\_t_sne.py:790: FutureWarning:\n",
      "\n",
      "The default learning rate in TSNE will change from 200.0 to 'auto' in 1.2.\n",
      "\n"
     ]
    },
    {
     "data": {
      "application/vnd.plotly.v1+json": {
       "config": {
        "linkText": "Export to plot.ly",
        "plotlyServerURL": "https://plot.ly",
        "showLink": false
       },
       "data": [
        {
         "mode": "markers",
         "text": [
          "n",
          "place",
          "food",
          "good",
          "like",
          "get",
          "time",
          "i",
          "would",
          "one",
          "order",
          "servic",
          "great",
          "back",
          "realli",
          "it",
          "tri",
          "even",
          "friend",
          "look",
          "want",
          "got",
          "come",
          "ni",
          "wait",
          "restaur",
          "have",
          "ask",
          "nthe",
          "make",
          "also",
          "am",
          "love",
          "nice",
          "go",
          "price",
          "never",
          "well",
          "could",
          "peopl",
          "drink",
          "went",
          "came",
          "know",
          "room",
          "say",
          "much",
          "tabl",
          "first",
          "said",
          "day",
          "eat",
          "thing",
          "take",
          "not",
          "tast",
          "minut",
          "littl",
          "best",
          "better",
          "way",
          "that",
          "night",
          "call",
          "think",
          "need",
          "two",
          "bar",
          "experi",
          "work",
          "give",
          "chicken",
          "pretti",
          "staff",
          "alway",
          "menu",
          "vega",
          "see",
          "there",
          "here",
          "made",
          "bad",
          "hour",
          "told",
          "fri",
          "use",
          "star",
          "custom",
          "right",
          "review",
          "walk",
          "still",
          "check",
          "ever",
          "around",
          "locat",
          "lot",
          "anoth",
          "pizza",
          "new"
         ],
         "type": "scatter",
         "x": [
          19.103729248046875,
          29.032575607299805,
          31.64530372619629,
          23.631649017333984,
          27.133241653442383,
          34.41257095336914,
          35.61490249633789,
          35.0658073425293,
          34.75790023803711,
          25.53373146057129,
          20.53655433654785,
          29.13042449951172,
          28.72867202758789,
          26.326330184936523,
          30.108047485351562,
          20.641386032104492,
          32.32453155517578,
          27.86345100402832,
          4.268848419189453,
          27.70636749267578,
          30.467681884765625,
          26.034374237060547,
          32.94171142578125,
          34.50708770751953,
          29.826953887939453,
          16.32192611694336,
          27.316938400268555,
          39.360389709472656,
          16.37094497680664,
          28.922061920166016,
          34.90409851074219,
          17.066574096679688,
          30.457107543945312,
          25.8958683013916,
          27.434886932373047,
          36.23676300048828,
          20.637866973876953,
          -1.8375879526138306,
          32.49924087524414,
          25.45863914489746,
          35.33935546875,
          32.5245246887207,
          32.12349319458008,
          26.178213119506836,
          35.718162536621094,
          21.87227439880371,
          24.852025985717773,
          33.59537887573242,
          35.08565139770508,
          35.775550842285156,
          13.108121871948242,
          36.92923355102539,
          34.42111587524414,
          35.19413757324219,
          32.5732536315918,
          19.705852508544922,
          19.593786239624023,
          16.314130783081055,
          28.682722091674805,
          21.09786605834961,
          25.66680335998535,
          20.355316162109375,
          31.187902450561523,
          35.05071258544922,
          34.684181213378906,
          28.11024284362793,
          33.45764923095703,
          20.152976989746094,
          33.65644836425781,
          30.493947982788086,
          34.95805740356445,
          29.00191307067871,
          26.338834762573242,
          27.08205223083496,
          24.683168411254883,
          21.3648738861084,
          31.718856811523438,
          33.24908447265625,
          34.79755401611328,
          34.261878967285156,
          31.520524978637695,
          25.214298248291016,
          12.805549621582031,
          16.629858016967773,
          10.62513256072998,
          33.66749954223633,
          25.99709129333496,
          40.1120491027832,
          13.393197059631348,
          36.32649230957031,
          24.984792709350586,
          28.496299743652344,
          37.5505256652832,
          31.60159683227539,
          4.19093656539917,
          34.349693298339844,
          33.00720977783203,
          29.74586296081543,
          26.960590362548828,
          24.54526710510254
         ],
         "y": [
          5.718411445617676,
          11.060015678405762,
          11.380882263183594,
          12.763349533081055,
          -25.176097869873047,
          9.766691207885742,
          10.834601402282715,
          7.340375900268555,
          11.123077392578125,
          23.05866241455078,
          28.554763793945312,
          14.348424911499023,
          11.256171226501465,
          -26.2491397857666,
          25.6591796875,
          4.763883113861084,
          9.979050636291504,
          10.428030014038086,
          3.5405654907226562,
          -26.19111442565918,
          16.039587020874023,
          21.920166015625,
          11.125815391540527,
          11.54707145690918,
          10.986818313598633,
          24.463754653930664,
          17.95741081237793,
          -2.3639121055603027,
          23.409236907958984,
          10.176323890686035,
          11.0933256149292,
          -2.5152246952056885,
          10.00399398803711,
          -26.678401947021484,
          -24.47100257873535,
          12.897851943969727,
          11.910598754882812,
          25.48626708984375,
          5.29226016998291,
          21.953784942626953,
          12.313368797302246,
          10.13606071472168,
          11.75035285949707,
          8.90910530090332,
          11.941357612609863,
          14.227716445922852,
          18.048877716064453,
          17.146303176879883,
          10.388483047485352,
          10.041523933410645,
          28.3544979095459,
          4.809826374053955,
          4.19607400894165,
          13.344840049743652,
          7.577549457550049,
          29.746295928955078,
          14.00119400024414,
          23.70561408996582,
          -8.113290786743164,
          -32.3807258605957,
          -0.7016783356666565,
          14.115379333496094,
          17.123491287231445,
          6.830329895019531,
          14.609649658203125,
          20.138263702392578,
          -0.7019795775413513,
          29.0522403717041,
          12.548490524291992,
          12.597882270812988,
          6.952143669128418,
          10.970890045166016,
          11.20394515991211,
          3.970238447189331,
          11.659963607788086,
          -30.152400970458984,
          7.558753490447998,
          -4.8755645751953125,
          11.013988494873047,
          12.844139099121094,
          10.89510726928711,
          6.497226715087891,
          34.52960205078125,
          23.068273544311523,
          29.601959228515625,
          9.738113403320312,
          22.332685470581055,
          -12.028112411499023,
          13.109912872314453,
          -2.4678544998168945,
          2.0959689617156982,
          15.756892204284668,
          18.355283737182617,
          8.048645973205566,
          3.189168691635132,
          7.569061279296875,
          11.130616188049316,
          3.7271199226379395,
          18.757911682128906,
          10.875115394592285
         ]
        }
       ],
       "layout": {
        "hovermode": "closest",
        "template": {
         "data": {
          "bar": [
           {
            "error_x": {
             "color": "#2a3f5f"
            },
            "error_y": {
             "color": "#2a3f5f"
            },
            "marker": {
             "line": {
              "color": "#E5ECF6",
              "width": 0.5
             },
             "pattern": {
              "fillmode": "overlay",
              "size": 10,
              "solidity": 0.2
             }
            },
            "type": "bar"
           }
          ],
          "barpolar": [
           {
            "marker": {
             "line": {
              "color": "#E5ECF6",
              "width": 0.5
             },
             "pattern": {
              "fillmode": "overlay",
              "size": 10,
              "solidity": 0.2
             }
            },
            "type": "barpolar"
           }
          ],
          "carpet": [
           {
            "aaxis": {
             "endlinecolor": "#2a3f5f",
             "gridcolor": "white",
             "linecolor": "white",
             "minorgridcolor": "white",
             "startlinecolor": "#2a3f5f"
            },
            "baxis": {
             "endlinecolor": "#2a3f5f",
             "gridcolor": "white",
             "linecolor": "white",
             "minorgridcolor": "white",
             "startlinecolor": "#2a3f5f"
            },
            "type": "carpet"
           }
          ],
          "choropleth": [
           {
            "colorbar": {
             "outlinewidth": 0,
             "ticks": ""
            },
            "type": "choropleth"
           }
          ],
          "contour": [
           {
            "colorbar": {
             "outlinewidth": 0,
             "ticks": ""
            },
            "colorscale": [
             [
              0,
              "#0d0887"
             ],
             [
              0.1111111111111111,
              "#46039f"
             ],
             [
              0.2222222222222222,
              "#7201a8"
             ],
             [
              0.3333333333333333,
              "#9c179e"
             ],
             [
              0.4444444444444444,
              "#bd3786"
             ],
             [
              0.5555555555555556,
              "#d8576b"
             ],
             [
              0.6666666666666666,
              "#ed7953"
             ],
             [
              0.7777777777777778,
              "#fb9f3a"
             ],
             [
              0.8888888888888888,
              "#fdca26"
             ],
             [
              1,
              "#f0f921"
             ]
            ],
            "type": "contour"
           }
          ],
          "contourcarpet": [
           {
            "colorbar": {
             "outlinewidth": 0,
             "ticks": ""
            },
            "type": "contourcarpet"
           }
          ],
          "heatmap": [
           {
            "colorbar": {
             "outlinewidth": 0,
             "ticks": ""
            },
            "colorscale": [
             [
              0,
              "#0d0887"
             ],
             [
              0.1111111111111111,
              "#46039f"
             ],
             [
              0.2222222222222222,
              "#7201a8"
             ],
             [
              0.3333333333333333,
              "#9c179e"
             ],
             [
              0.4444444444444444,
              "#bd3786"
             ],
             [
              0.5555555555555556,
              "#d8576b"
             ],
             [
              0.6666666666666666,
              "#ed7953"
             ],
             [
              0.7777777777777778,
              "#fb9f3a"
             ],
             [
              0.8888888888888888,
              "#fdca26"
             ],
             [
              1,
              "#f0f921"
             ]
            ],
            "type": "heatmap"
           }
          ],
          "heatmapgl": [
           {
            "colorbar": {
             "outlinewidth": 0,
             "ticks": ""
            },
            "colorscale": [
             [
              0,
              "#0d0887"
             ],
             [
              0.1111111111111111,
              "#46039f"
             ],
             [
              0.2222222222222222,
              "#7201a8"
             ],
             [
              0.3333333333333333,
              "#9c179e"
             ],
             [
              0.4444444444444444,
              "#bd3786"
             ],
             [
              0.5555555555555556,
              "#d8576b"
             ],
             [
              0.6666666666666666,
              "#ed7953"
             ],
             [
              0.7777777777777778,
              "#fb9f3a"
             ],
             [
              0.8888888888888888,
              "#fdca26"
             ],
             [
              1,
              "#f0f921"
             ]
            ],
            "type": "heatmapgl"
           }
          ],
          "histogram": [
           {
            "marker": {
             "pattern": {
              "fillmode": "overlay",
              "size": 10,
              "solidity": 0.2
             }
            },
            "type": "histogram"
           }
          ],
          "histogram2d": [
           {
            "colorbar": {
             "outlinewidth": 0,
             "ticks": ""
            },
            "colorscale": [
             [
              0,
              "#0d0887"
             ],
             [
              0.1111111111111111,
              "#46039f"
             ],
             [
              0.2222222222222222,
              "#7201a8"
             ],
             [
              0.3333333333333333,
              "#9c179e"
             ],
             [
              0.4444444444444444,
              "#bd3786"
             ],
             [
              0.5555555555555556,
              "#d8576b"
             ],
             [
              0.6666666666666666,
              "#ed7953"
             ],
             [
              0.7777777777777778,
              "#fb9f3a"
             ],
             [
              0.8888888888888888,
              "#fdca26"
             ],
             [
              1,
              "#f0f921"
             ]
            ],
            "type": "histogram2d"
           }
          ],
          "histogram2dcontour": [
           {
            "colorbar": {
             "outlinewidth": 0,
             "ticks": ""
            },
            "colorscale": [
             [
              0,
              "#0d0887"
             ],
             [
              0.1111111111111111,
              "#46039f"
             ],
             [
              0.2222222222222222,
              "#7201a8"
             ],
             [
              0.3333333333333333,
              "#9c179e"
             ],
             [
              0.4444444444444444,
              "#bd3786"
             ],
             [
              0.5555555555555556,
              "#d8576b"
             ],
             [
              0.6666666666666666,
              "#ed7953"
             ],
             [
              0.7777777777777778,
              "#fb9f3a"
             ],
             [
              0.8888888888888888,
              "#fdca26"
             ],
             [
              1,
              "#f0f921"
             ]
            ],
            "type": "histogram2dcontour"
           }
          ],
          "mesh3d": [
           {
            "colorbar": {
             "outlinewidth": 0,
             "ticks": ""
            },
            "type": "mesh3d"
           }
          ],
          "parcoords": [
           {
            "line": {
             "colorbar": {
              "outlinewidth": 0,
              "ticks": ""
             }
            },
            "type": "parcoords"
           }
          ],
          "pie": [
           {
            "automargin": true,
            "type": "pie"
           }
          ],
          "scatter": [
           {
            "marker": {
             "colorbar": {
              "outlinewidth": 0,
              "ticks": ""
             }
            },
            "type": "scatter"
           }
          ],
          "scatter3d": [
           {
            "line": {
             "colorbar": {
              "outlinewidth": 0,
              "ticks": ""
             }
            },
            "marker": {
             "colorbar": {
              "outlinewidth": 0,
              "ticks": ""
             }
            },
            "type": "scatter3d"
           }
          ],
          "scattercarpet": [
           {
            "marker": {
             "colorbar": {
              "outlinewidth": 0,
              "ticks": ""
             }
            },
            "type": "scattercarpet"
           }
          ],
          "scattergeo": [
           {
            "marker": {
             "colorbar": {
              "outlinewidth": 0,
              "ticks": ""
             }
            },
            "type": "scattergeo"
           }
          ],
          "scattergl": [
           {
            "marker": {
             "colorbar": {
              "outlinewidth": 0,
              "ticks": ""
             }
            },
            "type": "scattergl"
           }
          ],
          "scattermapbox": [
           {
            "marker": {
             "colorbar": {
              "outlinewidth": 0,
              "ticks": ""
             }
            },
            "type": "scattermapbox"
           }
          ],
          "scatterpolar": [
           {
            "marker": {
             "colorbar": {
              "outlinewidth": 0,
              "ticks": ""
             }
            },
            "type": "scatterpolar"
           }
          ],
          "scatterpolargl": [
           {
            "marker": {
             "colorbar": {
              "outlinewidth": 0,
              "ticks": ""
             }
            },
            "type": "scatterpolargl"
           }
          ],
          "scatterternary": [
           {
            "marker": {
             "colorbar": {
              "outlinewidth": 0,
              "ticks": ""
             }
            },
            "type": "scatterternary"
           }
          ],
          "surface": [
           {
            "colorbar": {
             "outlinewidth": 0,
             "ticks": ""
            },
            "colorscale": [
             [
              0,
              "#0d0887"
             ],
             [
              0.1111111111111111,
              "#46039f"
             ],
             [
              0.2222222222222222,
              "#7201a8"
             ],
             [
              0.3333333333333333,
              "#9c179e"
             ],
             [
              0.4444444444444444,
              "#bd3786"
             ],
             [
              0.5555555555555556,
              "#d8576b"
             ],
             [
              0.6666666666666666,
              "#ed7953"
             ],
             [
              0.7777777777777778,
              "#fb9f3a"
             ],
             [
              0.8888888888888888,
              "#fdca26"
             ],
             [
              1,
              "#f0f921"
             ]
            ],
            "type": "surface"
           }
          ],
          "table": [
           {
            "cells": {
             "fill": {
              "color": "#EBF0F8"
             },
             "line": {
              "color": "white"
             }
            },
            "header": {
             "fill": {
              "color": "#C8D4E3"
             },
             "line": {
              "color": "white"
             }
            },
            "type": "table"
           }
          ]
         },
         "layout": {
          "annotationdefaults": {
           "arrowcolor": "#2a3f5f",
           "arrowhead": 0,
           "arrowwidth": 1
          },
          "autotypenumbers": "strict",
          "coloraxis": {
           "colorbar": {
            "outlinewidth": 0,
            "ticks": ""
           }
          },
          "colorscale": {
           "diverging": [
            [
             0,
             "#8e0152"
            ],
            [
             0.1,
             "#c51b7d"
            ],
            [
             0.2,
             "#de77ae"
            ],
            [
             0.3,
             "#f1b6da"
            ],
            [
             0.4,
             "#fde0ef"
            ],
            [
             0.5,
             "#f7f7f7"
            ],
            [
             0.6,
             "#e6f5d0"
            ],
            [
             0.7,
             "#b8e186"
            ],
            [
             0.8,
             "#7fbc41"
            ],
            [
             0.9,
             "#4d9221"
            ],
            [
             1,
             "#276419"
            ]
           ],
           "sequential": [
            [
             0,
             "#0d0887"
            ],
            [
             0.1111111111111111,
             "#46039f"
            ],
            [
             0.2222222222222222,
             "#7201a8"
            ],
            [
             0.3333333333333333,
             "#9c179e"
            ],
            [
             0.4444444444444444,
             "#bd3786"
            ],
            [
             0.5555555555555556,
             "#d8576b"
            ],
            [
             0.6666666666666666,
             "#ed7953"
            ],
            [
             0.7777777777777778,
             "#fb9f3a"
            ],
            [
             0.8888888888888888,
             "#fdca26"
            ],
            [
             1,
             "#f0f921"
            ]
           ],
           "sequentialminus": [
            [
             0,
             "#0d0887"
            ],
            [
             0.1111111111111111,
             "#46039f"
            ],
            [
             0.2222222222222222,
             "#7201a8"
            ],
            [
             0.3333333333333333,
             "#9c179e"
            ],
            [
             0.4444444444444444,
             "#bd3786"
            ],
            [
             0.5555555555555556,
             "#d8576b"
            ],
            [
             0.6666666666666666,
             "#ed7953"
            ],
            [
             0.7777777777777778,
             "#fb9f3a"
            ],
            [
             0.8888888888888888,
             "#fdca26"
            ],
            [
             1,
             "#f0f921"
            ]
           ]
          },
          "colorway": [
           "#636efa",
           "#EF553B",
           "#00cc96",
           "#ab63fa",
           "#FFA15A",
           "#19d3f3",
           "#FF6692",
           "#B6E880",
           "#FF97FF",
           "#FECB52"
          ],
          "font": {
           "color": "#2a3f5f"
          },
          "geo": {
           "bgcolor": "white",
           "lakecolor": "white",
           "landcolor": "#E5ECF6",
           "showlakes": true,
           "showland": true,
           "subunitcolor": "white"
          },
          "hoverlabel": {
           "align": "left"
          },
          "hovermode": "closest",
          "mapbox": {
           "style": "light"
          },
          "paper_bgcolor": "white",
          "plot_bgcolor": "#E5ECF6",
          "polar": {
           "angularaxis": {
            "gridcolor": "white",
            "linecolor": "white",
            "ticks": ""
           },
           "bgcolor": "#E5ECF6",
           "radialaxis": {
            "gridcolor": "white",
            "linecolor": "white",
            "ticks": ""
           }
          },
          "scene": {
           "xaxis": {
            "backgroundcolor": "#E5ECF6",
            "gridcolor": "white",
            "gridwidth": 2,
            "linecolor": "white",
            "showbackground": true,
            "ticks": "",
            "zerolinecolor": "white"
           },
           "yaxis": {
            "backgroundcolor": "#E5ECF6",
            "gridcolor": "white",
            "gridwidth": 2,
            "linecolor": "white",
            "showbackground": true,
            "ticks": "",
            "zerolinecolor": "white"
           },
           "zaxis": {
            "backgroundcolor": "#E5ECF6",
            "gridcolor": "white",
            "gridwidth": 2,
            "linecolor": "white",
            "showbackground": true,
            "ticks": "",
            "zerolinecolor": "white"
           }
          },
          "shapedefaults": {
           "line": {
            "color": "#2a3f5f"
           }
          },
          "ternary": {
           "aaxis": {
            "gridcolor": "white",
            "linecolor": "white",
            "ticks": ""
           },
           "baxis": {
            "gridcolor": "white",
            "linecolor": "white",
            "ticks": ""
           },
           "bgcolor": "#E5ECF6",
           "caxis": {
            "gridcolor": "white",
            "linecolor": "white",
            "ticks": ""
           }
          },
          "title": {
           "x": 0.05
          },
          "xaxis": {
           "automargin": true,
           "gridcolor": "white",
           "linecolor": "white",
           "ticks": "",
           "title": {
            "standoff": 15
           },
           "zerolinecolor": "white",
           "zerolinewidth": 2
          },
          "yaxis": {
           "automargin": true,
           "gridcolor": "white",
           "linecolor": "white",
           "ticks": "",
           "title": {
            "standoff": 15
           },
           "zerolinecolor": "white",
           "zerolinewidth": 2
          }
         }
        },
        "title": {
         "text": "t-SNE 1 vs t-SNE 2"
        },
        "xaxis": {
         "title": {
          "text": "t-SNE 1"
         }
        },
        "yaxis": {
         "title": {
          "text": "t-SNE 2"
         }
        }
       }
      },
      "text/html": [
       "<div>                            <div id=\"9c898b5c-0d8f-4e1f-8823-82fd226984f5\" class=\"plotly-graph-div\" style=\"height:525px; width:100%;\"></div>            <script type=\"text/javascript\">                require([\"plotly\"], function(Plotly) {                    window.PLOTLYENV=window.PLOTLYENV || {};                                    if (document.getElementById(\"9c898b5c-0d8f-4e1f-8823-82fd226984f5\")) {                    Plotly.newPlot(                        \"9c898b5c-0d8f-4e1f-8823-82fd226984f5\",                        [{\"mode\":\"markers\",\"text\":[\"n\",\"place\",\"food\",\"good\",\"like\",\"get\",\"time\",\"i\",\"would\",\"one\",\"order\",\"servic\",\"great\",\"back\",\"realli\",\"it\",\"tri\",\"even\",\"friend\",\"look\",\"want\",\"got\",\"come\",\"ni\",\"wait\",\"restaur\",\"have\",\"ask\",\"nthe\",\"make\",\"also\",\"am\",\"love\",\"nice\",\"go\",\"price\",\"never\",\"well\",\"could\",\"peopl\",\"drink\",\"went\",\"came\",\"know\",\"room\",\"say\",\"much\",\"tabl\",\"first\",\"said\",\"day\",\"eat\",\"thing\",\"take\",\"not\",\"tast\",\"minut\",\"littl\",\"best\",\"better\",\"way\",\"that\",\"night\",\"call\",\"think\",\"need\",\"two\",\"bar\",\"experi\",\"work\",\"give\",\"chicken\",\"pretti\",\"staff\",\"alway\",\"menu\",\"vega\",\"see\",\"there\",\"here\",\"made\",\"bad\",\"hour\",\"told\",\"fri\",\"use\",\"star\",\"custom\",\"right\",\"review\",\"walk\",\"still\",\"check\",\"ever\",\"around\",\"locat\",\"lot\",\"anoth\",\"pizza\",\"new\"],\"x\":[19.103729248046875,29.032575607299805,31.64530372619629,23.631649017333984,27.133241653442383,34.41257095336914,35.61490249633789,35.0658073425293,34.75790023803711,25.53373146057129,20.53655433654785,29.13042449951172,28.72867202758789,26.326330184936523,30.108047485351562,20.641386032104492,32.32453155517578,27.86345100402832,4.268848419189453,27.70636749267578,30.467681884765625,26.034374237060547,32.94171142578125,34.50708770751953,29.826953887939453,16.32192611694336,27.316938400268555,39.360389709472656,16.37094497680664,28.922061920166016,34.90409851074219,17.066574096679688,30.457107543945312,25.8958683013916,27.434886932373047,36.23676300048828,20.637866973876953,-1.8375879526138306,32.49924087524414,25.45863914489746,35.33935546875,32.5245246887207,32.12349319458008,26.178213119506836,35.718162536621094,21.87227439880371,24.852025985717773,33.59537887573242,35.08565139770508,35.775550842285156,13.108121871948242,36.92923355102539,34.42111587524414,35.19413757324219,32.5732536315918,19.705852508544922,19.593786239624023,16.314130783081055,28.682722091674805,21.09786605834961,25.66680335998535,20.355316162109375,31.187902450561523,35.05071258544922,34.684181213378906,28.11024284362793,33.45764923095703,20.152976989746094,33.65644836425781,30.493947982788086,34.95805740356445,29.00191307067871,26.338834762573242,27.08205223083496,24.683168411254883,21.3648738861084,31.718856811523438,33.24908447265625,34.79755401611328,34.261878967285156,31.520524978637695,25.214298248291016,12.805549621582031,16.629858016967773,10.62513256072998,33.66749954223633,25.99709129333496,40.1120491027832,13.393197059631348,36.32649230957031,24.984792709350586,28.496299743652344,37.5505256652832,31.60159683227539,4.19093656539917,34.349693298339844,33.00720977783203,29.74586296081543,26.960590362548828,24.54526710510254],\"y\":[5.718411445617676,11.060015678405762,11.380882263183594,12.763349533081055,-25.176097869873047,9.766691207885742,10.834601402282715,7.340375900268555,11.123077392578125,23.05866241455078,28.554763793945312,14.348424911499023,11.256171226501465,-26.2491397857666,25.6591796875,4.763883113861084,9.979050636291504,10.428030014038086,3.5405654907226562,-26.19111442565918,16.039587020874023,21.920166015625,11.125815391540527,11.54707145690918,10.986818313598633,24.463754653930664,17.95741081237793,-2.3639121055603027,23.409236907958984,10.176323890686035,11.0933256149292,-2.5152246952056885,10.00399398803711,-26.678401947021484,-24.47100257873535,12.897851943969727,11.910598754882812,25.48626708984375,5.29226016998291,21.953784942626953,12.313368797302246,10.13606071472168,11.75035285949707,8.90910530090332,11.941357612609863,14.227716445922852,18.048877716064453,17.146303176879883,10.388483047485352,10.041523933410645,28.3544979095459,4.809826374053955,4.19607400894165,13.344840049743652,7.577549457550049,29.746295928955078,14.00119400024414,23.70561408996582,-8.113290786743164,-32.3807258605957,-0.7016783356666565,14.115379333496094,17.123491287231445,6.830329895019531,14.609649658203125,20.138263702392578,-0.7019795775413513,29.0522403717041,12.548490524291992,12.597882270812988,6.952143669128418,10.970890045166016,11.20394515991211,3.970238447189331,11.659963607788086,-30.152400970458984,7.558753490447998,-4.8755645751953125,11.013988494873047,12.844139099121094,10.89510726928711,6.497226715087891,34.52960205078125,23.068273544311523,29.601959228515625,9.738113403320312,22.332685470581055,-12.028112411499023,13.109912872314453,-2.4678544998168945,2.0959689617156982,15.756892204284668,18.355283737182617,8.048645973205566,3.189168691635132,7.569061279296875,11.130616188049316,3.7271199226379395,18.757911682128906,10.875115394592285],\"type\":\"scatter\"}],                        {\"hovermode\":\"closest\",\"template\":{\"data\":{\"barpolar\":[{\"marker\":{\"line\":{\"color\":\"#E5ECF6\",\"width\":0.5},\"pattern\":{\"fillmode\":\"overlay\",\"size\":10,\"solidity\":0.2}},\"type\":\"barpolar\"}],\"bar\":[{\"error_x\":{\"color\":\"#2a3f5f\"},\"error_y\":{\"color\":\"#2a3f5f\"},\"marker\":{\"line\":{\"color\":\"#E5ECF6\",\"width\":0.5},\"pattern\":{\"fillmode\":\"overlay\",\"size\":10,\"solidity\":0.2}},\"type\":\"bar\"}],\"carpet\":[{\"aaxis\":{\"endlinecolor\":\"#2a3f5f\",\"gridcolor\":\"white\",\"linecolor\":\"white\",\"minorgridcolor\":\"white\",\"startlinecolor\":\"#2a3f5f\"},\"baxis\":{\"endlinecolor\":\"#2a3f5f\",\"gridcolor\":\"white\",\"linecolor\":\"white\",\"minorgridcolor\":\"white\",\"startlinecolor\":\"#2a3f5f\"},\"type\":\"carpet\"}],\"choropleth\":[{\"colorbar\":{\"outlinewidth\":0,\"ticks\":\"\"},\"type\":\"choropleth\"}],\"contourcarpet\":[{\"colorbar\":{\"outlinewidth\":0,\"ticks\":\"\"},\"type\":\"contourcarpet\"}],\"contour\":[{\"colorbar\":{\"outlinewidth\":0,\"ticks\":\"\"},\"colorscale\":[[0.0,\"#0d0887\"],[0.1111111111111111,\"#46039f\"],[0.2222222222222222,\"#7201a8\"],[0.3333333333333333,\"#9c179e\"],[0.4444444444444444,\"#bd3786\"],[0.5555555555555556,\"#d8576b\"],[0.6666666666666666,\"#ed7953\"],[0.7777777777777778,\"#fb9f3a\"],[0.8888888888888888,\"#fdca26\"],[1.0,\"#f0f921\"]],\"type\":\"contour\"}],\"heatmapgl\":[{\"colorbar\":{\"outlinewidth\":0,\"ticks\":\"\"},\"colorscale\":[[0.0,\"#0d0887\"],[0.1111111111111111,\"#46039f\"],[0.2222222222222222,\"#7201a8\"],[0.3333333333333333,\"#9c179e\"],[0.4444444444444444,\"#bd3786\"],[0.5555555555555556,\"#d8576b\"],[0.6666666666666666,\"#ed7953\"],[0.7777777777777778,\"#fb9f3a\"],[0.8888888888888888,\"#fdca26\"],[1.0,\"#f0f921\"]],\"type\":\"heatmapgl\"}],\"heatmap\":[{\"colorbar\":{\"outlinewidth\":0,\"ticks\":\"\"},\"colorscale\":[[0.0,\"#0d0887\"],[0.1111111111111111,\"#46039f\"],[0.2222222222222222,\"#7201a8\"],[0.3333333333333333,\"#9c179e\"],[0.4444444444444444,\"#bd3786\"],[0.5555555555555556,\"#d8576b\"],[0.6666666666666666,\"#ed7953\"],[0.7777777777777778,\"#fb9f3a\"],[0.8888888888888888,\"#fdca26\"],[1.0,\"#f0f921\"]],\"type\":\"heatmap\"}],\"histogram2dcontour\":[{\"colorbar\":{\"outlinewidth\":0,\"ticks\":\"\"},\"colorscale\":[[0.0,\"#0d0887\"],[0.1111111111111111,\"#46039f\"],[0.2222222222222222,\"#7201a8\"],[0.3333333333333333,\"#9c179e\"],[0.4444444444444444,\"#bd3786\"],[0.5555555555555556,\"#d8576b\"],[0.6666666666666666,\"#ed7953\"],[0.7777777777777778,\"#fb9f3a\"],[0.8888888888888888,\"#fdca26\"],[1.0,\"#f0f921\"]],\"type\":\"histogram2dcontour\"}],\"histogram2d\":[{\"colorbar\":{\"outlinewidth\":0,\"ticks\":\"\"},\"colorscale\":[[0.0,\"#0d0887\"],[0.1111111111111111,\"#46039f\"],[0.2222222222222222,\"#7201a8\"],[0.3333333333333333,\"#9c179e\"],[0.4444444444444444,\"#bd3786\"],[0.5555555555555556,\"#d8576b\"],[0.6666666666666666,\"#ed7953\"],[0.7777777777777778,\"#fb9f3a\"],[0.8888888888888888,\"#fdca26\"],[1.0,\"#f0f921\"]],\"type\":\"histogram2d\"}],\"histogram\":[{\"marker\":{\"pattern\":{\"fillmode\":\"overlay\",\"size\":10,\"solidity\":0.2}},\"type\":\"histogram\"}],\"mesh3d\":[{\"colorbar\":{\"outlinewidth\":0,\"ticks\":\"\"},\"type\":\"mesh3d\"}],\"parcoords\":[{\"line\":{\"colorbar\":{\"outlinewidth\":0,\"ticks\":\"\"}},\"type\":\"parcoords\"}],\"pie\":[{\"automargin\":true,\"type\":\"pie\"}],\"scatter3d\":[{\"line\":{\"colorbar\":{\"outlinewidth\":0,\"ticks\":\"\"}},\"marker\":{\"colorbar\":{\"outlinewidth\":0,\"ticks\":\"\"}},\"type\":\"scatter3d\"}],\"scattercarpet\":[{\"marker\":{\"colorbar\":{\"outlinewidth\":0,\"ticks\":\"\"}},\"type\":\"scattercarpet\"}],\"scattergeo\":[{\"marker\":{\"colorbar\":{\"outlinewidth\":0,\"ticks\":\"\"}},\"type\":\"scattergeo\"}],\"scattergl\":[{\"marker\":{\"colorbar\":{\"outlinewidth\":0,\"ticks\":\"\"}},\"type\":\"scattergl\"}],\"scattermapbox\":[{\"marker\":{\"colorbar\":{\"outlinewidth\":0,\"ticks\":\"\"}},\"type\":\"scattermapbox\"}],\"scatterpolargl\":[{\"marker\":{\"colorbar\":{\"outlinewidth\":0,\"ticks\":\"\"}},\"type\":\"scatterpolargl\"}],\"scatterpolar\":[{\"marker\":{\"colorbar\":{\"outlinewidth\":0,\"ticks\":\"\"}},\"type\":\"scatterpolar\"}],\"scatter\":[{\"marker\":{\"colorbar\":{\"outlinewidth\":0,\"ticks\":\"\"}},\"type\":\"scatter\"}],\"scatterternary\":[{\"marker\":{\"colorbar\":{\"outlinewidth\":0,\"ticks\":\"\"}},\"type\":\"scatterternary\"}],\"surface\":[{\"colorbar\":{\"outlinewidth\":0,\"ticks\":\"\"},\"colorscale\":[[0.0,\"#0d0887\"],[0.1111111111111111,\"#46039f\"],[0.2222222222222222,\"#7201a8\"],[0.3333333333333333,\"#9c179e\"],[0.4444444444444444,\"#bd3786\"],[0.5555555555555556,\"#d8576b\"],[0.6666666666666666,\"#ed7953\"],[0.7777777777777778,\"#fb9f3a\"],[0.8888888888888888,\"#fdca26\"],[1.0,\"#f0f921\"]],\"type\":\"surface\"}],\"table\":[{\"cells\":{\"fill\":{\"color\":\"#EBF0F8\"},\"line\":{\"color\":\"white\"}},\"header\":{\"fill\":{\"color\":\"#C8D4E3\"},\"line\":{\"color\":\"white\"}},\"type\":\"table\"}]},\"layout\":{\"annotationdefaults\":{\"arrowcolor\":\"#2a3f5f\",\"arrowhead\":0,\"arrowwidth\":1},\"autotypenumbers\":\"strict\",\"coloraxis\":{\"colorbar\":{\"outlinewidth\":0,\"ticks\":\"\"}},\"colorscale\":{\"diverging\":[[0,\"#8e0152\"],[0.1,\"#c51b7d\"],[0.2,\"#de77ae\"],[0.3,\"#f1b6da\"],[0.4,\"#fde0ef\"],[0.5,\"#f7f7f7\"],[0.6,\"#e6f5d0\"],[0.7,\"#b8e186\"],[0.8,\"#7fbc41\"],[0.9,\"#4d9221\"],[1,\"#276419\"]],\"sequential\":[[0.0,\"#0d0887\"],[0.1111111111111111,\"#46039f\"],[0.2222222222222222,\"#7201a8\"],[0.3333333333333333,\"#9c179e\"],[0.4444444444444444,\"#bd3786\"],[0.5555555555555556,\"#d8576b\"],[0.6666666666666666,\"#ed7953\"],[0.7777777777777778,\"#fb9f3a\"],[0.8888888888888888,\"#fdca26\"],[1.0,\"#f0f921\"]],\"sequentialminus\":[[0.0,\"#0d0887\"],[0.1111111111111111,\"#46039f\"],[0.2222222222222222,\"#7201a8\"],[0.3333333333333333,\"#9c179e\"],[0.4444444444444444,\"#bd3786\"],[0.5555555555555556,\"#d8576b\"],[0.6666666666666666,\"#ed7953\"],[0.7777777777777778,\"#fb9f3a\"],[0.8888888888888888,\"#fdca26\"],[1.0,\"#f0f921\"]]},\"colorway\":[\"#636efa\",\"#EF553B\",\"#00cc96\",\"#ab63fa\",\"#FFA15A\",\"#19d3f3\",\"#FF6692\",\"#B6E880\",\"#FF97FF\",\"#FECB52\"],\"font\":{\"color\":\"#2a3f5f\"},\"geo\":{\"bgcolor\":\"white\",\"lakecolor\":\"white\",\"landcolor\":\"#E5ECF6\",\"showlakes\":true,\"showland\":true,\"subunitcolor\":\"white\"},\"hoverlabel\":{\"align\":\"left\"},\"hovermode\":\"closest\",\"mapbox\":{\"style\":\"light\"},\"paper_bgcolor\":\"white\",\"plot_bgcolor\":\"#E5ECF6\",\"polar\":{\"angularaxis\":{\"gridcolor\":\"white\",\"linecolor\":\"white\",\"ticks\":\"\"},\"bgcolor\":\"#E5ECF6\",\"radialaxis\":{\"gridcolor\":\"white\",\"linecolor\":\"white\",\"ticks\":\"\"}},\"scene\":{\"xaxis\":{\"backgroundcolor\":\"#E5ECF6\",\"gridcolor\":\"white\",\"gridwidth\":2,\"linecolor\":\"white\",\"showbackground\":true,\"ticks\":\"\",\"zerolinecolor\":\"white\"},\"yaxis\":{\"backgroundcolor\":\"#E5ECF6\",\"gridcolor\":\"white\",\"gridwidth\":2,\"linecolor\":\"white\",\"showbackground\":true,\"ticks\":\"\",\"zerolinecolor\":\"white\"},\"zaxis\":{\"backgroundcolor\":\"#E5ECF6\",\"gridcolor\":\"white\",\"gridwidth\":2,\"linecolor\":\"white\",\"showbackground\":true,\"ticks\":\"\",\"zerolinecolor\":\"white\"}},\"shapedefaults\":{\"line\":{\"color\":\"#2a3f5f\"}},\"ternary\":{\"aaxis\":{\"gridcolor\":\"white\",\"linecolor\":\"white\",\"ticks\":\"\"},\"baxis\":{\"gridcolor\":\"white\",\"linecolor\":\"white\",\"ticks\":\"\"},\"bgcolor\":\"#E5ECF6\",\"caxis\":{\"gridcolor\":\"white\",\"linecolor\":\"white\",\"ticks\":\"\"}},\"title\":{\"x\":0.05},\"xaxis\":{\"automargin\":true,\"gridcolor\":\"white\",\"linecolor\":\"white\",\"ticks\":\"\",\"title\":{\"standoff\":15},\"zerolinecolor\":\"white\",\"zerolinewidth\":2},\"yaxis\":{\"automargin\":true,\"gridcolor\":\"white\",\"linecolor\":\"white\",\"ticks\":\"\",\"title\":{\"standoff\":15},\"zerolinecolor\":\"white\",\"zerolinewidth\":2}}},\"title\":{\"text\":\"t-SNE 1 vs t-SNE 2\"},\"xaxis\":{\"title\":{\"text\":\"t-SNE 1\"}},\"yaxis\":{\"title\":{\"text\":\"t-SNE 2\"}}},                        {\"responsive\": true}                    ).then(function(){\n",
       "                            \n",
       "var gd = document.getElementById('9c898b5c-0d8f-4e1f-8823-82fd226984f5');\n",
       "var x = new MutationObserver(function (mutations, observer) {{\n",
       "        var display = window.getComputedStyle(gd).display;\n",
       "        if (!display || display === 'none') {{\n",
       "            console.log([gd, 'removed!']);\n",
       "            Plotly.purge(gd);\n",
       "            observer.disconnect();\n",
       "        }}\n",
       "}});\n",
       "\n",
       "// Listen for the removal of the full notebook cells\n",
       "var notebookContainer = gd.closest('#notebook-container');\n",
       "if (notebookContainer) {{\n",
       "    x.observe(notebookContainer, {childList: true});\n",
       "}}\n",
       "\n",
       "// Listen for the clearing of the current output cell\n",
       "var outputEl = gd.closest('.output');\n",
       "if (outputEl) {{\n",
       "    x.observe(outputEl, {childList: true});\n",
       "}}\n",
       "\n",
       "                        })                };                });            </script>        </div>"
      ]
     },
     "metadata": {},
     "output_type": "display_data"
    }
   ],
   "source": [
    "lstm_tsne_embds = TSNE(n_components=2).fit_transform(lstm_embds)\n",
    "plot_words(lstm_tsne_embds, 0, number_of_words, 1)"
   ]
  },
  {
   "cell_type": "code",
   "execution_count": 27,
   "metadata": {
    "scrolled": false
   },
   "outputs": [
    {
     "name": "stderr",
     "output_type": "stream",
     "text": [
      "C:\\Users\\Yoon\\anaconda3\\lib\\site-packages\\sklearn\\manifold\\_t_sne.py:780: FutureWarning:\n",
      "\n",
      "The default initialization in TSNE will change from 'random' to 'pca' in 1.2.\n",
      "\n",
      "C:\\Users\\Yoon\\anaconda3\\lib\\site-packages\\sklearn\\manifold\\_t_sne.py:790: FutureWarning:\n",
      "\n",
      "The default learning rate in TSNE will change from 200.0 to 'auto' in 1.2.\n",
      "\n"
     ]
    },
    {
     "data": {
      "application/vnd.plotly.v1+json": {
       "config": {
        "linkText": "Export to plot.ly",
        "plotlyServerURL": "https://plot.ly",
        "showLink": false
       },
       "data": [
        {
         "mode": "markers",
         "text": [
          "n",
          "place",
          "food",
          "good",
          "like",
          "get",
          "time",
          "i",
          "would",
          "one",
          "order",
          "servic",
          "great",
          "back",
          "realli",
          "it",
          "tri",
          "even",
          "friend",
          "look",
          "want",
          "got",
          "come",
          "ni",
          "wait",
          "restaur",
          "have",
          "ask",
          "nthe",
          "make",
          "also",
          "am",
          "love",
          "nice",
          "go",
          "price",
          "never",
          "well",
          "could",
          "peopl",
          "drink",
          "went",
          "came",
          "know",
          "room",
          "say",
          "much",
          "tabl",
          "first",
          "said",
          "day",
          "eat",
          "thing",
          "take",
          "not",
          "tast",
          "minut",
          "littl",
          "best",
          "better",
          "way",
          "that",
          "night",
          "call",
          "think",
          "need",
          "two",
          "bar",
          "experi",
          "work",
          "give",
          "chicken",
          "pretti",
          "staff",
          "alway",
          "menu",
          "vega",
          "see",
          "there",
          "here",
          "made",
          "bad",
          "hour",
          "told",
          "fri",
          "use",
          "star",
          "custom",
          "right",
          "review",
          "walk",
          "still",
          "check",
          "ever",
          "around",
          "locat",
          "lot",
          "anoth",
          "pizza",
          "new"
         ],
         "type": "scatter",
         "x": [
          14.442534446716309,
          12.613792419433594,
          16.931825637817383,
          15.732574462890625,
          -11.069966316223145,
          16.84114646911621,
          12.042119979858398,
          12.085029602050781,
          11.785585403442383,
          22.461837768554688,
          14.053482055664062,
          21.468717575073242,
          15.295170783996582,
          -25.433448791503906,
          7.687774658203125,
          19.149097442626953,
          16.506441116333008,
          11.02656364440918,
          10.569337844848633,
          -10.87052059173584,
          25.55636978149414,
          28.687297821044922,
          15.881746292114258,
          13.058345794677734,
          12.767725944519043,
          28.534353256225586,
          19.36455726623535,
          10.74109935760498,
          23.892650604248047,
          13.741143226623535,
          13.94076919555664,
          -9.01939868927002,
          14.177985191345215,
          -25.149812698364258,
          -10.749967575073242,
          15.665349960327148,
          8.551459312438965,
          7.835217475891113,
          1.0269509553909302,
          14.915288925170898,
          20.219873428344727,
          16.58808708190918,
          19.204343795776367,
          16.247743606567383,
          15.376338005065918,
          12.320636749267578,
          20.487060546875,
          18.668764114379883,
          15.806899070739746,
          14.495149612426758,
          22.197439193725586,
          13.906010627746582,
          13.030467987060547,
          14.658820152282715,
          19.49816131591797,
          28.181589126586914,
          21.18156623840332,
          24.375818252563477,
          12.837678909301758,
          -26.788360595703125,
          6.070952892303467,
          16.261173248291016,
          24.813161849975586,
          14.807251930236816,
          17.58846092224121,
          21.069400787353516,
          10.317079544067383,
          -4.493536472320557,
          15.702393531799316,
          16.974349975585938,
          12.395939826965332,
          15.773983001708984,
          9.947460174560547,
          19.219715118408203,
          15.017912864685059,
          -17.558612823486328,
          16.085275650024414,
          -7.043358325958252,
          12.247401237487793,
          17.673276901245117,
          13.975990295410156,
          -11.54489517211914,
          29.05634117126465,
          13.476235389709473,
          23.34361457824707,
          11.10144329071045,
          22.978891372680664,
          2.7223923206329346,
          10.475788116455078,
          -0.28841349482536316,
          19.221860885620117,
          12.077621459960938,
          -9.4098539352417,
          8.902726173400879,
          4.675858497619629,
          10.127285957336426,
          16.15427017211914,
          2.74143385887146,
          17.48815155029297,
          13.515392303466797
         ],
         "y": [
          12.700092315673828,
          12.532504081726074,
          10.929612159729004,
          8.4556303024292,
          27.93819808959961,
          24.206493377685547,
          16.140363693237305,
          17.554752349853516,
          16.74323081970215,
          10.875341415405273,
          13.73963451385498,
          7.921319961547852,
          8.569941520690918,
          21.743396759033203,
          -11.576850891113281,
          13.842865943908691,
          10.69283676147461,
          15.61497974395752,
          -7.568741321563721,
          21.54401969909668,
          8.116312980651855,
          4.931136608123779,
          17.645566940307617,
          15.436344146728516,
          12.339945793151855,
          14.210177421569824,
          11.650979042053223,
          20.15814971923828,
          7.0513505935668945,
          6.598978519439697,
          19.33856201171875,
          3.8763632774353027,
          14.148563385009766,
          22.746583938598633,
          27.683069229125977,
          20.791894912719727,
          4.426316738128662,
          -5.882299900054932,
          19.11359405517578,
          19.221101760864258,
          10.689549446105957,
          18.353559494018555,
          7.624059200286865,
          17.4764347076416,
          18.505069732666016,
          9.127585411071777,
          11.333935737609863,
          9.854068756103516,
          16.694791793823242,
          21.24363899230957,
          5.545052528381348,
          21.28141975402832,
          15.62272834777832,
          19.97369384765625,
          12.55542278289795,
          1.4855976104736328,
          -12.723302841186523,
          -0.1995336413383484,
          24.35770034790039,
          21.62881088256836,
          7.043301105499268,
          12.142267227172852,
          14.792556762695312,
          15.241616249084473,
          8.669349670410156,
          14.773649215698242,
          23.47772789001465,
          -10.402304649353027,
          18.392147064208984,
          10.784357070922852,
          13.666379928588867,
          10.712224006652832,
          9.636102676391602,
          14.008687973022461,
          8.651416778564453,
          6.6312575340271,
          15.033074378967285,
          22.60297393798828,
          17.214073181152344,
          22.161054611206055,
          13.983357429504395,
          13.404955863952637,
          -12.801992416381836,
          11.08992862701416,
          -11.711727142333984,
          14.478816032409668,
          11.287976264953613,
          -0.7748839259147644,
          -11.012594223022461,
          25.858259201049805,
          19.936519622802734,
          8.365986824035645,
          6.243935585021973,
          15.721550941467285,
          2.419635534286499,
          21.68195152282715,
          19.247018814086914,
          19.4301815032959,
          11.007112503051758,
          12.176441192626953
         ]
        }
       ],
       "layout": {
        "hovermode": "closest",
        "template": {
         "data": {
          "bar": [
           {
            "error_x": {
             "color": "#2a3f5f"
            },
            "error_y": {
             "color": "#2a3f5f"
            },
            "marker": {
             "line": {
              "color": "#E5ECF6",
              "width": 0.5
             },
             "pattern": {
              "fillmode": "overlay",
              "size": 10,
              "solidity": 0.2
             }
            },
            "type": "bar"
           }
          ],
          "barpolar": [
           {
            "marker": {
             "line": {
              "color": "#E5ECF6",
              "width": 0.5
             },
             "pattern": {
              "fillmode": "overlay",
              "size": 10,
              "solidity": 0.2
             }
            },
            "type": "barpolar"
           }
          ],
          "carpet": [
           {
            "aaxis": {
             "endlinecolor": "#2a3f5f",
             "gridcolor": "white",
             "linecolor": "white",
             "minorgridcolor": "white",
             "startlinecolor": "#2a3f5f"
            },
            "baxis": {
             "endlinecolor": "#2a3f5f",
             "gridcolor": "white",
             "linecolor": "white",
             "minorgridcolor": "white",
             "startlinecolor": "#2a3f5f"
            },
            "type": "carpet"
           }
          ],
          "choropleth": [
           {
            "colorbar": {
             "outlinewidth": 0,
             "ticks": ""
            },
            "type": "choropleth"
           }
          ],
          "contour": [
           {
            "colorbar": {
             "outlinewidth": 0,
             "ticks": ""
            },
            "colorscale": [
             [
              0,
              "#0d0887"
             ],
             [
              0.1111111111111111,
              "#46039f"
             ],
             [
              0.2222222222222222,
              "#7201a8"
             ],
             [
              0.3333333333333333,
              "#9c179e"
             ],
             [
              0.4444444444444444,
              "#bd3786"
             ],
             [
              0.5555555555555556,
              "#d8576b"
             ],
             [
              0.6666666666666666,
              "#ed7953"
             ],
             [
              0.7777777777777778,
              "#fb9f3a"
             ],
             [
              0.8888888888888888,
              "#fdca26"
             ],
             [
              1,
              "#f0f921"
             ]
            ],
            "type": "contour"
           }
          ],
          "contourcarpet": [
           {
            "colorbar": {
             "outlinewidth": 0,
             "ticks": ""
            },
            "type": "contourcarpet"
           }
          ],
          "heatmap": [
           {
            "colorbar": {
             "outlinewidth": 0,
             "ticks": ""
            },
            "colorscale": [
             [
              0,
              "#0d0887"
             ],
             [
              0.1111111111111111,
              "#46039f"
             ],
             [
              0.2222222222222222,
              "#7201a8"
             ],
             [
              0.3333333333333333,
              "#9c179e"
             ],
             [
              0.4444444444444444,
              "#bd3786"
             ],
             [
              0.5555555555555556,
              "#d8576b"
             ],
             [
              0.6666666666666666,
              "#ed7953"
             ],
             [
              0.7777777777777778,
              "#fb9f3a"
             ],
             [
              0.8888888888888888,
              "#fdca26"
             ],
             [
              1,
              "#f0f921"
             ]
            ],
            "type": "heatmap"
           }
          ],
          "heatmapgl": [
           {
            "colorbar": {
             "outlinewidth": 0,
             "ticks": ""
            },
            "colorscale": [
             [
              0,
              "#0d0887"
             ],
             [
              0.1111111111111111,
              "#46039f"
             ],
             [
              0.2222222222222222,
              "#7201a8"
             ],
             [
              0.3333333333333333,
              "#9c179e"
             ],
             [
              0.4444444444444444,
              "#bd3786"
             ],
             [
              0.5555555555555556,
              "#d8576b"
             ],
             [
              0.6666666666666666,
              "#ed7953"
             ],
             [
              0.7777777777777778,
              "#fb9f3a"
             ],
             [
              0.8888888888888888,
              "#fdca26"
             ],
             [
              1,
              "#f0f921"
             ]
            ],
            "type": "heatmapgl"
           }
          ],
          "histogram": [
           {
            "marker": {
             "pattern": {
              "fillmode": "overlay",
              "size": 10,
              "solidity": 0.2
             }
            },
            "type": "histogram"
           }
          ],
          "histogram2d": [
           {
            "colorbar": {
             "outlinewidth": 0,
             "ticks": ""
            },
            "colorscale": [
             [
              0,
              "#0d0887"
             ],
             [
              0.1111111111111111,
              "#46039f"
             ],
             [
              0.2222222222222222,
              "#7201a8"
             ],
             [
              0.3333333333333333,
              "#9c179e"
             ],
             [
              0.4444444444444444,
              "#bd3786"
             ],
             [
              0.5555555555555556,
              "#d8576b"
             ],
             [
              0.6666666666666666,
              "#ed7953"
             ],
             [
              0.7777777777777778,
              "#fb9f3a"
             ],
             [
              0.8888888888888888,
              "#fdca26"
             ],
             [
              1,
              "#f0f921"
             ]
            ],
            "type": "histogram2d"
           }
          ],
          "histogram2dcontour": [
           {
            "colorbar": {
             "outlinewidth": 0,
             "ticks": ""
            },
            "colorscale": [
             [
              0,
              "#0d0887"
             ],
             [
              0.1111111111111111,
              "#46039f"
             ],
             [
              0.2222222222222222,
              "#7201a8"
             ],
             [
              0.3333333333333333,
              "#9c179e"
             ],
             [
              0.4444444444444444,
              "#bd3786"
             ],
             [
              0.5555555555555556,
              "#d8576b"
             ],
             [
              0.6666666666666666,
              "#ed7953"
             ],
             [
              0.7777777777777778,
              "#fb9f3a"
             ],
             [
              0.8888888888888888,
              "#fdca26"
             ],
             [
              1,
              "#f0f921"
             ]
            ],
            "type": "histogram2dcontour"
           }
          ],
          "mesh3d": [
           {
            "colorbar": {
             "outlinewidth": 0,
             "ticks": ""
            },
            "type": "mesh3d"
           }
          ],
          "parcoords": [
           {
            "line": {
             "colorbar": {
              "outlinewidth": 0,
              "ticks": ""
             }
            },
            "type": "parcoords"
           }
          ],
          "pie": [
           {
            "automargin": true,
            "type": "pie"
           }
          ],
          "scatter": [
           {
            "marker": {
             "colorbar": {
              "outlinewidth": 0,
              "ticks": ""
             }
            },
            "type": "scatter"
           }
          ],
          "scatter3d": [
           {
            "line": {
             "colorbar": {
              "outlinewidth": 0,
              "ticks": ""
             }
            },
            "marker": {
             "colorbar": {
              "outlinewidth": 0,
              "ticks": ""
             }
            },
            "type": "scatter3d"
           }
          ],
          "scattercarpet": [
           {
            "marker": {
             "colorbar": {
              "outlinewidth": 0,
              "ticks": ""
             }
            },
            "type": "scattercarpet"
           }
          ],
          "scattergeo": [
           {
            "marker": {
             "colorbar": {
              "outlinewidth": 0,
              "ticks": ""
             }
            },
            "type": "scattergeo"
           }
          ],
          "scattergl": [
           {
            "marker": {
             "colorbar": {
              "outlinewidth": 0,
              "ticks": ""
             }
            },
            "type": "scattergl"
           }
          ],
          "scattermapbox": [
           {
            "marker": {
             "colorbar": {
              "outlinewidth": 0,
              "ticks": ""
             }
            },
            "type": "scattermapbox"
           }
          ],
          "scatterpolar": [
           {
            "marker": {
             "colorbar": {
              "outlinewidth": 0,
              "ticks": ""
             }
            },
            "type": "scatterpolar"
           }
          ],
          "scatterpolargl": [
           {
            "marker": {
             "colorbar": {
              "outlinewidth": 0,
              "ticks": ""
             }
            },
            "type": "scatterpolargl"
           }
          ],
          "scatterternary": [
           {
            "marker": {
             "colorbar": {
              "outlinewidth": 0,
              "ticks": ""
             }
            },
            "type": "scatterternary"
           }
          ],
          "surface": [
           {
            "colorbar": {
             "outlinewidth": 0,
             "ticks": ""
            },
            "colorscale": [
             [
              0,
              "#0d0887"
             ],
             [
              0.1111111111111111,
              "#46039f"
             ],
             [
              0.2222222222222222,
              "#7201a8"
             ],
             [
              0.3333333333333333,
              "#9c179e"
             ],
             [
              0.4444444444444444,
              "#bd3786"
             ],
             [
              0.5555555555555556,
              "#d8576b"
             ],
             [
              0.6666666666666666,
              "#ed7953"
             ],
             [
              0.7777777777777778,
              "#fb9f3a"
             ],
             [
              0.8888888888888888,
              "#fdca26"
             ],
             [
              1,
              "#f0f921"
             ]
            ],
            "type": "surface"
           }
          ],
          "table": [
           {
            "cells": {
             "fill": {
              "color": "#EBF0F8"
             },
             "line": {
              "color": "white"
             }
            },
            "header": {
             "fill": {
              "color": "#C8D4E3"
             },
             "line": {
              "color": "white"
             }
            },
            "type": "table"
           }
          ]
         },
         "layout": {
          "annotationdefaults": {
           "arrowcolor": "#2a3f5f",
           "arrowhead": 0,
           "arrowwidth": 1
          },
          "autotypenumbers": "strict",
          "coloraxis": {
           "colorbar": {
            "outlinewidth": 0,
            "ticks": ""
           }
          },
          "colorscale": {
           "diverging": [
            [
             0,
             "#8e0152"
            ],
            [
             0.1,
             "#c51b7d"
            ],
            [
             0.2,
             "#de77ae"
            ],
            [
             0.3,
             "#f1b6da"
            ],
            [
             0.4,
             "#fde0ef"
            ],
            [
             0.5,
             "#f7f7f7"
            ],
            [
             0.6,
             "#e6f5d0"
            ],
            [
             0.7,
             "#b8e186"
            ],
            [
             0.8,
             "#7fbc41"
            ],
            [
             0.9,
             "#4d9221"
            ],
            [
             1,
             "#276419"
            ]
           ],
           "sequential": [
            [
             0,
             "#0d0887"
            ],
            [
             0.1111111111111111,
             "#46039f"
            ],
            [
             0.2222222222222222,
             "#7201a8"
            ],
            [
             0.3333333333333333,
             "#9c179e"
            ],
            [
             0.4444444444444444,
             "#bd3786"
            ],
            [
             0.5555555555555556,
             "#d8576b"
            ],
            [
             0.6666666666666666,
             "#ed7953"
            ],
            [
             0.7777777777777778,
             "#fb9f3a"
            ],
            [
             0.8888888888888888,
             "#fdca26"
            ],
            [
             1,
             "#f0f921"
            ]
           ],
           "sequentialminus": [
            [
             0,
             "#0d0887"
            ],
            [
             0.1111111111111111,
             "#46039f"
            ],
            [
             0.2222222222222222,
             "#7201a8"
            ],
            [
             0.3333333333333333,
             "#9c179e"
            ],
            [
             0.4444444444444444,
             "#bd3786"
            ],
            [
             0.5555555555555556,
             "#d8576b"
            ],
            [
             0.6666666666666666,
             "#ed7953"
            ],
            [
             0.7777777777777778,
             "#fb9f3a"
            ],
            [
             0.8888888888888888,
             "#fdca26"
            ],
            [
             1,
             "#f0f921"
            ]
           ]
          },
          "colorway": [
           "#636efa",
           "#EF553B",
           "#00cc96",
           "#ab63fa",
           "#FFA15A",
           "#19d3f3",
           "#FF6692",
           "#B6E880",
           "#FF97FF",
           "#FECB52"
          ],
          "font": {
           "color": "#2a3f5f"
          },
          "geo": {
           "bgcolor": "white",
           "lakecolor": "white",
           "landcolor": "#E5ECF6",
           "showlakes": true,
           "showland": true,
           "subunitcolor": "white"
          },
          "hoverlabel": {
           "align": "left"
          },
          "hovermode": "closest",
          "mapbox": {
           "style": "light"
          },
          "paper_bgcolor": "white",
          "plot_bgcolor": "#E5ECF6",
          "polar": {
           "angularaxis": {
            "gridcolor": "white",
            "linecolor": "white",
            "ticks": ""
           },
           "bgcolor": "#E5ECF6",
           "radialaxis": {
            "gridcolor": "white",
            "linecolor": "white",
            "ticks": ""
           }
          },
          "scene": {
           "xaxis": {
            "backgroundcolor": "#E5ECF6",
            "gridcolor": "white",
            "gridwidth": 2,
            "linecolor": "white",
            "showbackground": true,
            "ticks": "",
            "zerolinecolor": "white"
           },
           "yaxis": {
            "backgroundcolor": "#E5ECF6",
            "gridcolor": "white",
            "gridwidth": 2,
            "linecolor": "white",
            "showbackground": true,
            "ticks": "",
            "zerolinecolor": "white"
           },
           "zaxis": {
            "backgroundcolor": "#E5ECF6",
            "gridcolor": "white",
            "gridwidth": 2,
            "linecolor": "white",
            "showbackground": true,
            "ticks": "",
            "zerolinecolor": "white"
           }
          },
          "shapedefaults": {
           "line": {
            "color": "#2a3f5f"
           }
          },
          "ternary": {
           "aaxis": {
            "gridcolor": "white",
            "linecolor": "white",
            "ticks": ""
           },
           "baxis": {
            "gridcolor": "white",
            "linecolor": "white",
            "ticks": ""
           },
           "bgcolor": "#E5ECF6",
           "caxis": {
            "gridcolor": "white",
            "linecolor": "white",
            "ticks": ""
           }
          },
          "title": {
           "x": 0.05
          },
          "xaxis": {
           "automargin": true,
           "gridcolor": "white",
           "linecolor": "white",
           "ticks": "",
           "title": {
            "standoff": 15
           },
           "zerolinecolor": "white",
           "zerolinewidth": 2
          },
          "yaxis": {
           "automargin": true,
           "gridcolor": "white",
           "linecolor": "white",
           "ticks": "",
           "title": {
            "standoff": 15
           },
           "zerolinecolor": "white",
           "zerolinewidth": 2
          }
         }
        },
        "title": {
         "text": "t-SNE 1 vs t-SNE 2"
        },
        "xaxis": {
         "title": {
          "text": "t-SNE 1"
         }
        },
        "yaxis": {
         "title": {
          "text": "t-SNE 2"
         }
        }
       }
      },
      "text/html": [
       "<div>                            <div id=\"a48fba49-6018-4868-b19c-9a546a8fe38a\" class=\"plotly-graph-div\" style=\"height:525px; width:100%;\"></div>            <script type=\"text/javascript\">                require([\"plotly\"], function(Plotly) {                    window.PLOTLYENV=window.PLOTLYENV || {};                                    if (document.getElementById(\"a48fba49-6018-4868-b19c-9a546a8fe38a\")) {                    Plotly.newPlot(                        \"a48fba49-6018-4868-b19c-9a546a8fe38a\",                        [{\"mode\":\"markers\",\"text\":[\"n\",\"place\",\"food\",\"good\",\"like\",\"get\",\"time\",\"i\",\"would\",\"one\",\"order\",\"servic\",\"great\",\"back\",\"realli\",\"it\",\"tri\",\"even\",\"friend\",\"look\",\"want\",\"got\",\"come\",\"ni\",\"wait\",\"restaur\",\"have\",\"ask\",\"nthe\",\"make\",\"also\",\"am\",\"love\",\"nice\",\"go\",\"price\",\"never\",\"well\",\"could\",\"peopl\",\"drink\",\"went\",\"came\",\"know\",\"room\",\"say\",\"much\",\"tabl\",\"first\",\"said\",\"day\",\"eat\",\"thing\",\"take\",\"not\",\"tast\",\"minut\",\"littl\",\"best\",\"better\",\"way\",\"that\",\"night\",\"call\",\"think\",\"need\",\"two\",\"bar\",\"experi\",\"work\",\"give\",\"chicken\",\"pretti\",\"staff\",\"alway\",\"menu\",\"vega\",\"see\",\"there\",\"here\",\"made\",\"bad\",\"hour\",\"told\",\"fri\",\"use\",\"star\",\"custom\",\"right\",\"review\",\"walk\",\"still\",\"check\",\"ever\",\"around\",\"locat\",\"lot\",\"anoth\",\"pizza\",\"new\"],\"x\":[14.442534446716309,12.613792419433594,16.931825637817383,15.732574462890625,-11.069966316223145,16.84114646911621,12.042119979858398,12.085029602050781,11.785585403442383,22.461837768554688,14.053482055664062,21.468717575073242,15.295170783996582,-25.433448791503906,7.687774658203125,19.149097442626953,16.506441116333008,11.02656364440918,10.569337844848633,-10.87052059173584,25.55636978149414,28.687297821044922,15.881746292114258,13.058345794677734,12.767725944519043,28.534353256225586,19.36455726623535,10.74109935760498,23.892650604248047,13.741143226623535,13.94076919555664,-9.01939868927002,14.177985191345215,-25.149812698364258,-10.749967575073242,15.665349960327148,8.551459312438965,7.835217475891113,1.0269509553909302,14.915288925170898,20.219873428344727,16.58808708190918,19.204343795776367,16.247743606567383,15.376338005065918,12.320636749267578,20.487060546875,18.668764114379883,15.806899070739746,14.495149612426758,22.197439193725586,13.906010627746582,13.030467987060547,14.658820152282715,19.49816131591797,28.181589126586914,21.18156623840332,24.375818252563477,12.837678909301758,-26.788360595703125,6.070952892303467,16.261173248291016,24.813161849975586,14.807251930236816,17.58846092224121,21.069400787353516,10.317079544067383,-4.493536472320557,15.702393531799316,16.974349975585938,12.395939826965332,15.773983001708984,9.947460174560547,19.219715118408203,15.017912864685059,-17.558612823486328,16.085275650024414,-7.043358325958252,12.247401237487793,17.673276901245117,13.975990295410156,-11.54489517211914,29.05634117126465,13.476235389709473,23.34361457824707,11.10144329071045,22.978891372680664,2.7223923206329346,10.475788116455078,-0.28841349482536316,19.221860885620117,12.077621459960938,-9.4098539352417,8.902726173400879,4.675858497619629,10.127285957336426,16.15427017211914,2.74143385887146,17.48815155029297,13.515392303466797],\"y\":[12.700092315673828,12.532504081726074,10.929612159729004,8.4556303024292,27.93819808959961,24.206493377685547,16.140363693237305,17.554752349853516,16.74323081970215,10.875341415405273,13.73963451385498,7.921319961547852,8.569941520690918,21.743396759033203,-11.576850891113281,13.842865943908691,10.69283676147461,15.61497974395752,-7.568741321563721,21.54401969909668,8.116312980651855,4.931136608123779,17.645566940307617,15.436344146728516,12.339945793151855,14.210177421569824,11.650979042053223,20.15814971923828,7.0513505935668945,6.598978519439697,19.33856201171875,3.8763632774353027,14.148563385009766,22.746583938598633,27.683069229125977,20.791894912719727,4.426316738128662,-5.882299900054932,19.11359405517578,19.221101760864258,10.689549446105957,18.353559494018555,7.624059200286865,17.4764347076416,18.505069732666016,9.127585411071777,11.333935737609863,9.854068756103516,16.694791793823242,21.24363899230957,5.545052528381348,21.28141975402832,15.62272834777832,19.97369384765625,12.55542278289795,1.4855976104736328,-12.723302841186523,-0.1995336413383484,24.35770034790039,21.62881088256836,7.043301105499268,12.142267227172852,14.792556762695312,15.241616249084473,8.669349670410156,14.773649215698242,23.47772789001465,-10.402304649353027,18.392147064208984,10.784357070922852,13.666379928588867,10.712224006652832,9.636102676391602,14.008687973022461,8.651416778564453,6.6312575340271,15.033074378967285,22.60297393798828,17.214073181152344,22.161054611206055,13.983357429504395,13.404955863952637,-12.801992416381836,11.08992862701416,-11.711727142333984,14.478816032409668,11.287976264953613,-0.7748839259147644,-11.012594223022461,25.858259201049805,19.936519622802734,8.365986824035645,6.243935585021973,15.721550941467285,2.419635534286499,21.68195152282715,19.247018814086914,19.4301815032959,11.007112503051758,12.176441192626953],\"type\":\"scatter\"}],                        {\"hovermode\":\"closest\",\"template\":{\"data\":{\"barpolar\":[{\"marker\":{\"line\":{\"color\":\"#E5ECF6\",\"width\":0.5},\"pattern\":{\"fillmode\":\"overlay\",\"size\":10,\"solidity\":0.2}},\"type\":\"barpolar\"}],\"bar\":[{\"error_x\":{\"color\":\"#2a3f5f\"},\"error_y\":{\"color\":\"#2a3f5f\"},\"marker\":{\"line\":{\"color\":\"#E5ECF6\",\"width\":0.5},\"pattern\":{\"fillmode\":\"overlay\",\"size\":10,\"solidity\":0.2}},\"type\":\"bar\"}],\"carpet\":[{\"aaxis\":{\"endlinecolor\":\"#2a3f5f\",\"gridcolor\":\"white\",\"linecolor\":\"white\",\"minorgridcolor\":\"white\",\"startlinecolor\":\"#2a3f5f\"},\"baxis\":{\"endlinecolor\":\"#2a3f5f\",\"gridcolor\":\"white\",\"linecolor\":\"white\",\"minorgridcolor\":\"white\",\"startlinecolor\":\"#2a3f5f\"},\"type\":\"carpet\"}],\"choropleth\":[{\"colorbar\":{\"outlinewidth\":0,\"ticks\":\"\"},\"type\":\"choropleth\"}],\"contourcarpet\":[{\"colorbar\":{\"outlinewidth\":0,\"ticks\":\"\"},\"type\":\"contourcarpet\"}],\"contour\":[{\"colorbar\":{\"outlinewidth\":0,\"ticks\":\"\"},\"colorscale\":[[0.0,\"#0d0887\"],[0.1111111111111111,\"#46039f\"],[0.2222222222222222,\"#7201a8\"],[0.3333333333333333,\"#9c179e\"],[0.4444444444444444,\"#bd3786\"],[0.5555555555555556,\"#d8576b\"],[0.6666666666666666,\"#ed7953\"],[0.7777777777777778,\"#fb9f3a\"],[0.8888888888888888,\"#fdca26\"],[1.0,\"#f0f921\"]],\"type\":\"contour\"}],\"heatmapgl\":[{\"colorbar\":{\"outlinewidth\":0,\"ticks\":\"\"},\"colorscale\":[[0.0,\"#0d0887\"],[0.1111111111111111,\"#46039f\"],[0.2222222222222222,\"#7201a8\"],[0.3333333333333333,\"#9c179e\"],[0.4444444444444444,\"#bd3786\"],[0.5555555555555556,\"#d8576b\"],[0.6666666666666666,\"#ed7953\"],[0.7777777777777778,\"#fb9f3a\"],[0.8888888888888888,\"#fdca26\"],[1.0,\"#f0f921\"]],\"type\":\"heatmapgl\"}],\"heatmap\":[{\"colorbar\":{\"outlinewidth\":0,\"ticks\":\"\"},\"colorscale\":[[0.0,\"#0d0887\"],[0.1111111111111111,\"#46039f\"],[0.2222222222222222,\"#7201a8\"],[0.3333333333333333,\"#9c179e\"],[0.4444444444444444,\"#bd3786\"],[0.5555555555555556,\"#d8576b\"],[0.6666666666666666,\"#ed7953\"],[0.7777777777777778,\"#fb9f3a\"],[0.8888888888888888,\"#fdca26\"],[1.0,\"#f0f921\"]],\"type\":\"heatmap\"}],\"histogram2dcontour\":[{\"colorbar\":{\"outlinewidth\":0,\"ticks\":\"\"},\"colorscale\":[[0.0,\"#0d0887\"],[0.1111111111111111,\"#46039f\"],[0.2222222222222222,\"#7201a8\"],[0.3333333333333333,\"#9c179e\"],[0.4444444444444444,\"#bd3786\"],[0.5555555555555556,\"#d8576b\"],[0.6666666666666666,\"#ed7953\"],[0.7777777777777778,\"#fb9f3a\"],[0.8888888888888888,\"#fdca26\"],[1.0,\"#f0f921\"]],\"type\":\"histogram2dcontour\"}],\"histogram2d\":[{\"colorbar\":{\"outlinewidth\":0,\"ticks\":\"\"},\"colorscale\":[[0.0,\"#0d0887\"],[0.1111111111111111,\"#46039f\"],[0.2222222222222222,\"#7201a8\"],[0.3333333333333333,\"#9c179e\"],[0.4444444444444444,\"#bd3786\"],[0.5555555555555556,\"#d8576b\"],[0.6666666666666666,\"#ed7953\"],[0.7777777777777778,\"#fb9f3a\"],[0.8888888888888888,\"#fdca26\"],[1.0,\"#f0f921\"]],\"type\":\"histogram2d\"}],\"histogram\":[{\"marker\":{\"pattern\":{\"fillmode\":\"overlay\",\"size\":10,\"solidity\":0.2}},\"type\":\"histogram\"}],\"mesh3d\":[{\"colorbar\":{\"outlinewidth\":0,\"ticks\":\"\"},\"type\":\"mesh3d\"}],\"parcoords\":[{\"line\":{\"colorbar\":{\"outlinewidth\":0,\"ticks\":\"\"}},\"type\":\"parcoords\"}],\"pie\":[{\"automargin\":true,\"type\":\"pie\"}],\"scatter3d\":[{\"line\":{\"colorbar\":{\"outlinewidth\":0,\"ticks\":\"\"}},\"marker\":{\"colorbar\":{\"outlinewidth\":0,\"ticks\":\"\"}},\"type\":\"scatter3d\"}],\"scattercarpet\":[{\"marker\":{\"colorbar\":{\"outlinewidth\":0,\"ticks\":\"\"}},\"type\":\"scattercarpet\"}],\"scattergeo\":[{\"marker\":{\"colorbar\":{\"outlinewidth\":0,\"ticks\":\"\"}},\"type\":\"scattergeo\"}],\"scattergl\":[{\"marker\":{\"colorbar\":{\"outlinewidth\":0,\"ticks\":\"\"}},\"type\":\"scattergl\"}],\"scattermapbox\":[{\"marker\":{\"colorbar\":{\"outlinewidth\":0,\"ticks\":\"\"}},\"type\":\"scattermapbox\"}],\"scatterpolargl\":[{\"marker\":{\"colorbar\":{\"outlinewidth\":0,\"ticks\":\"\"}},\"type\":\"scatterpolargl\"}],\"scatterpolar\":[{\"marker\":{\"colorbar\":{\"outlinewidth\":0,\"ticks\":\"\"}},\"type\":\"scatterpolar\"}],\"scatter\":[{\"marker\":{\"colorbar\":{\"outlinewidth\":0,\"ticks\":\"\"}},\"type\":\"scatter\"}],\"scatterternary\":[{\"marker\":{\"colorbar\":{\"outlinewidth\":0,\"ticks\":\"\"}},\"type\":\"scatterternary\"}],\"surface\":[{\"colorbar\":{\"outlinewidth\":0,\"ticks\":\"\"},\"colorscale\":[[0.0,\"#0d0887\"],[0.1111111111111111,\"#46039f\"],[0.2222222222222222,\"#7201a8\"],[0.3333333333333333,\"#9c179e\"],[0.4444444444444444,\"#bd3786\"],[0.5555555555555556,\"#d8576b\"],[0.6666666666666666,\"#ed7953\"],[0.7777777777777778,\"#fb9f3a\"],[0.8888888888888888,\"#fdca26\"],[1.0,\"#f0f921\"]],\"type\":\"surface\"}],\"table\":[{\"cells\":{\"fill\":{\"color\":\"#EBF0F8\"},\"line\":{\"color\":\"white\"}},\"header\":{\"fill\":{\"color\":\"#C8D4E3\"},\"line\":{\"color\":\"white\"}},\"type\":\"table\"}]},\"layout\":{\"annotationdefaults\":{\"arrowcolor\":\"#2a3f5f\",\"arrowhead\":0,\"arrowwidth\":1},\"autotypenumbers\":\"strict\",\"coloraxis\":{\"colorbar\":{\"outlinewidth\":0,\"ticks\":\"\"}},\"colorscale\":{\"diverging\":[[0,\"#8e0152\"],[0.1,\"#c51b7d\"],[0.2,\"#de77ae\"],[0.3,\"#f1b6da\"],[0.4,\"#fde0ef\"],[0.5,\"#f7f7f7\"],[0.6,\"#e6f5d0\"],[0.7,\"#b8e186\"],[0.8,\"#7fbc41\"],[0.9,\"#4d9221\"],[1,\"#276419\"]],\"sequential\":[[0.0,\"#0d0887\"],[0.1111111111111111,\"#46039f\"],[0.2222222222222222,\"#7201a8\"],[0.3333333333333333,\"#9c179e\"],[0.4444444444444444,\"#bd3786\"],[0.5555555555555556,\"#d8576b\"],[0.6666666666666666,\"#ed7953\"],[0.7777777777777778,\"#fb9f3a\"],[0.8888888888888888,\"#fdca26\"],[1.0,\"#f0f921\"]],\"sequentialminus\":[[0.0,\"#0d0887\"],[0.1111111111111111,\"#46039f\"],[0.2222222222222222,\"#7201a8\"],[0.3333333333333333,\"#9c179e\"],[0.4444444444444444,\"#bd3786\"],[0.5555555555555556,\"#d8576b\"],[0.6666666666666666,\"#ed7953\"],[0.7777777777777778,\"#fb9f3a\"],[0.8888888888888888,\"#fdca26\"],[1.0,\"#f0f921\"]]},\"colorway\":[\"#636efa\",\"#EF553B\",\"#00cc96\",\"#ab63fa\",\"#FFA15A\",\"#19d3f3\",\"#FF6692\",\"#B6E880\",\"#FF97FF\",\"#FECB52\"],\"font\":{\"color\":\"#2a3f5f\"},\"geo\":{\"bgcolor\":\"white\",\"lakecolor\":\"white\",\"landcolor\":\"#E5ECF6\",\"showlakes\":true,\"showland\":true,\"subunitcolor\":\"white\"},\"hoverlabel\":{\"align\":\"left\"},\"hovermode\":\"closest\",\"mapbox\":{\"style\":\"light\"},\"paper_bgcolor\":\"white\",\"plot_bgcolor\":\"#E5ECF6\",\"polar\":{\"angularaxis\":{\"gridcolor\":\"white\",\"linecolor\":\"white\",\"ticks\":\"\"},\"bgcolor\":\"#E5ECF6\",\"radialaxis\":{\"gridcolor\":\"white\",\"linecolor\":\"white\",\"ticks\":\"\"}},\"scene\":{\"xaxis\":{\"backgroundcolor\":\"#E5ECF6\",\"gridcolor\":\"white\",\"gridwidth\":2,\"linecolor\":\"white\",\"showbackground\":true,\"ticks\":\"\",\"zerolinecolor\":\"white\"},\"yaxis\":{\"backgroundcolor\":\"#E5ECF6\",\"gridcolor\":\"white\",\"gridwidth\":2,\"linecolor\":\"white\",\"showbackground\":true,\"ticks\":\"\",\"zerolinecolor\":\"white\"},\"zaxis\":{\"backgroundcolor\":\"#E5ECF6\",\"gridcolor\":\"white\",\"gridwidth\":2,\"linecolor\":\"white\",\"showbackground\":true,\"ticks\":\"\",\"zerolinecolor\":\"white\"}},\"shapedefaults\":{\"line\":{\"color\":\"#2a3f5f\"}},\"ternary\":{\"aaxis\":{\"gridcolor\":\"white\",\"linecolor\":\"white\",\"ticks\":\"\"},\"baxis\":{\"gridcolor\":\"white\",\"linecolor\":\"white\",\"ticks\":\"\"},\"bgcolor\":\"#E5ECF6\",\"caxis\":{\"gridcolor\":\"white\",\"linecolor\":\"white\",\"ticks\":\"\"}},\"title\":{\"x\":0.05},\"xaxis\":{\"automargin\":true,\"gridcolor\":\"white\",\"linecolor\":\"white\",\"ticks\":\"\",\"title\":{\"standoff\":15},\"zerolinecolor\":\"white\",\"zerolinewidth\":2},\"yaxis\":{\"automargin\":true,\"gridcolor\":\"white\",\"linecolor\":\"white\",\"ticks\":\"\",\"title\":{\"standoff\":15},\"zerolinecolor\":\"white\",\"zerolinewidth\":2}}},\"title\":{\"text\":\"t-SNE 1 vs t-SNE 2\"},\"xaxis\":{\"title\":{\"text\":\"t-SNE 1\"}},\"yaxis\":{\"title\":{\"text\":\"t-SNE 2\"}}},                        {\"responsive\": true}                    ).then(function(){\n",
       "                            \n",
       "var gd = document.getElementById('a48fba49-6018-4868-b19c-9a546a8fe38a');\n",
       "var x = new MutationObserver(function (mutations, observer) {{\n",
       "        var display = window.getComputedStyle(gd).display;\n",
       "        if (!display || display === 'none') {{\n",
       "            console.log([gd, 'removed!']);\n",
       "            Plotly.purge(gd);\n",
       "            observer.disconnect();\n",
       "        }}\n",
       "}});\n",
       "\n",
       "// Listen for the removal of the full notebook cells\n",
       "var notebookContainer = gd.closest('#notebook-container');\n",
       "if (notebookContainer) {{\n",
       "    x.observe(notebookContainer, {childList: true});\n",
       "}}\n",
       "\n",
       "// Listen for the clearing of the current output cell\n",
       "var outputEl = gd.closest('.output');\n",
       "if (outputEl) {{\n",
       "    x.observe(outputEl, {childList: true});\n",
       "}}\n",
       "\n",
       "                        })                };                });            </script>        </div>"
      ]
     },
     "metadata": {},
     "output_type": "display_data"
    }
   ],
   "source": [
    "conv_tsne_embds = TSNE(n_components=2).fit_transform(conv_embds)\n",
    "plot_words(conv_tsne_embds, 0, number_of_words, 1)"
   ]
  },
  {
   "cell_type": "markdown",
   "metadata": {},
   "source": [
    "## Sample Test"
   ]
  },
  {
   "cell_type": "code",
   "execution_count": 7,
   "metadata": {},
   "outputs": [],
   "source": [
    "from keras.models import load_model\n",
    "\n",
    "model=load_model('lstm_model.h5')\n",
    "model_conv=load_model('lstm_conv_model.h5')\n",
    "\n",
    "with open('tokenizer.pickle', 'rb') as handle:\n",
    "    tokenizer = pickle.load(handle)"
   ]
  },
  {
   "cell_type": "code",
   "execution_count": 8,
   "metadata": {},
   "outputs": [],
   "source": [
    "# positive review\n",
    "review_sample=\\\n",
    "\"Thankfully there has been no monkeying around with the formidably tall gâteau Basque, which is flavored with rum and served with a sparkling orange puddle of Cara Cara marmalade.\\\n",
    "The genius of traditional Spanish cooking lies in knowing when to leave well enough alone. It’s a principle the bartenders at El Quijote could stand to study. Cocktails that originally called for two or three ingredients get five or six; the kalimotxo, a blend of red wine and cola that is one of Spain’s great party tricks, has wine, rum and two kinds of amaro when it just needs a Coke.\\\n",
    "The more-is-more approach works better with the sangria; infused with cinnamon and spiked with balsamic vinegar, it goes down something like a chilled mulled wine, and is a huge improvement over its predecessor. So, I suspect, is the wine list, which is brief but manages to rope in a fair sampling of modern winemakers like Ramón Jané and more traditional outfits like C.V.N.E.\\\n",
    "I miss the sprawling, sheltering atmosphere of the old El Quijote, but not much else. Toward the end, even El Quijote’s Ford administration prices weren’t quite enough to make anyone forget that a number of restaurants served far better Spanish food. Now it is one of them, and that’s OK.\""
   ]
  },
  {
   "cell_type": "code",
   "execution_count": 9,
   "metadata": {},
   "outputs": [
    {
     "data": {
      "text/plain": [
       "'Thankfully there has been no monkeying around with the formidably tall gâteau Basque, which is flavored with rum and served with a sparkling orange puddle of Cara Cara marmalade.The genius of traditional Spanish cooking lies in knowing when to leave well enough alone. It’s a principle the bartenders at El Quijote could stand to study. Cocktails that originally called for two or three ingredients get five or six; the kalimotxo, a blend of red wine and cola that is one of Spain’s great party tricks, has wine, rum and two kinds of amaro when it just needs a Coke.The more-is-more approach works better with the sangria; infused with cinnamon and spiked with balsamic vinegar, it goes down something like a chilled mulled wine, and is a huge improvement over its predecessor. So, I suspect, is the wine list, which is brief but manages to rope in a fair sampling of modern winemakers like Ramón Jané and more traditional outfits like C.V.N.E.I miss the sprawling, sheltering atmosphere of the old El Quijote, but not much else. Toward the end, even El Quijote’s Ford administration prices weren’t quite enough to make anyone forget that a number of restaurants served far better Spanish food. Now it is one of them, and that’s OK.'"
      ]
     },
     "execution_count": 9,
     "metadata": {},
     "output_type": "execute_result"
    }
   ],
   "source": [
    "review_sample"
   ]
  },
  {
   "cell_type": "code",
   "execution_count": 15,
   "metadata": {},
   "outputs": [
    {
     "data": {
      "text/html": [
       "<div>\n",
       "<style scoped>\n",
       "    .dataframe tbody tr th:only-of-type {\n",
       "        vertical-align: middle;\n",
       "    }\n",
       "\n",
       "    .dataframe tbody tr th {\n",
       "        vertical-align: top;\n",
       "    }\n",
       "\n",
       "    .dataframe thead th {\n",
       "        text-align: right;\n",
       "    }\n",
       "</style>\n",
       "<table border=\"1\" class=\"dataframe\">\n",
       "  <thead>\n",
       "    <tr style=\"text-align: right;\">\n",
       "      <th></th>\n",
       "      <th>text</th>\n",
       "    </tr>\n",
       "  </thead>\n",
       "  <tbody>\n",
       "    <tr>\n",
       "      <th>0</th>\n",
       "      <td>thank monkey around formid tall g teau basqu f...</td>\n",
       "    </tr>\n",
       "  </tbody>\n",
       "</table>\n",
       "</div>"
      ],
      "text/plain": [
       "                                                text\n",
       "0  thank monkey around formid tall g teau basqu f..."
      ]
     },
     "execution_count": 15,
     "metadata": {},
     "output_type": "execute_result"
    }
   ],
   "source": [
    "df=pd.DataFrame({'text':[clean_text(review_sample)]})\n",
    "df.head()"
   ]
  },
  {
   "cell_type": "code",
   "execution_count": 16,
   "metadata": {
    "scrolled": true
   },
   "outputs": [
    {
     "data": {
      "text/plain": [
       "array([[0.59257436]], dtype=float32)"
      ]
     },
     "execution_count": 16,
     "metadata": {},
     "output_type": "execute_result"
    }
   ],
   "source": [
    "model.predict(pad_sequences(tokenizer.texts_to_sequences(df['text']), maxlen=100))"
   ]
  },
  {
   "cell_type": "code",
   "execution_count": 17,
   "metadata": {
    "scrolled": false
   },
   "outputs": [
    {
     "data": {
      "text/plain": [
       "array([[0.9201092]], dtype=float32)"
      ]
     },
     "execution_count": 17,
     "metadata": {},
     "output_type": "execute_result"
    }
   ],
   "source": [
    "model_conv.predict(pad_sequences(tokenizer.texts_to_sequences(df['text']), maxlen=100))"
   ]
  },
  {
   "cell_type": "markdown",
   "metadata": {},
   "source": [
    "## Sample Test 2"
   ]
  },
  {
   "cell_type": "code",
   "execution_count": 20,
   "metadata": {},
   "outputs": [],
   "source": [
    "# positive review\n",
    "review_sample=\"such a good restaurant\""
   ]
  },
  {
   "cell_type": "code",
   "execution_count": 21,
   "metadata": {},
   "outputs": [
    {
     "data": {
      "text/plain": [
       "'such a good restaurant'"
      ]
     },
     "execution_count": 21,
     "metadata": {},
     "output_type": "execute_result"
    }
   ],
   "source": [
    "review_sample"
   ]
  },
  {
   "cell_type": "code",
   "execution_count": 22,
   "metadata": {},
   "outputs": [
    {
     "data": {
      "text/html": [
       "<div>\n",
       "<style scoped>\n",
       "    .dataframe tbody tr th:only-of-type {\n",
       "        vertical-align: middle;\n",
       "    }\n",
       "\n",
       "    .dataframe tbody tr th {\n",
       "        vertical-align: top;\n",
       "    }\n",
       "\n",
       "    .dataframe thead th {\n",
       "        text-align: right;\n",
       "    }\n",
       "</style>\n",
       "<table border=\"1\" class=\"dataframe\">\n",
       "  <thead>\n",
       "    <tr style=\"text-align: right;\">\n",
       "      <th></th>\n",
       "      <th>text</th>\n",
       "    </tr>\n",
       "  </thead>\n",
       "  <tbody>\n",
       "    <tr>\n",
       "      <th>0</th>\n",
       "      <td>good restaur</td>\n",
       "    </tr>\n",
       "  </tbody>\n",
       "</table>\n",
       "</div>"
      ],
      "text/plain": [
       "           text\n",
       "0  good restaur"
      ]
     },
     "execution_count": 22,
     "metadata": {},
     "output_type": "execute_result"
    }
   ],
   "source": [
    "df=pd.DataFrame({'text':[clean_text(review_sample)]})\n",
    "df.head()"
   ]
  },
  {
   "cell_type": "code",
   "execution_count": 23,
   "metadata": {
    "scrolled": true
   },
   "outputs": [
    {
     "data": {
      "text/plain": [
       "array([[0.8786822]], dtype=float32)"
      ]
     },
     "execution_count": 23,
     "metadata": {},
     "output_type": "execute_result"
    }
   ],
   "source": [
    "model.predict(pad_sequences(tokenizer.texts_to_sequences(df['text']), maxlen=100))"
   ]
  },
  {
   "cell_type": "code",
   "execution_count": 24,
   "metadata": {
    "scrolled": true
   },
   "outputs": [
    {
     "data": {
      "text/plain": [
       "array([[0.8241217]], dtype=float32)"
      ]
     },
     "execution_count": 24,
     "metadata": {},
     "output_type": "execute_result"
    }
   ],
   "source": [
    "model_conv.predict(pad_sequences(tokenizer.texts_to_sequences(df['text']), maxlen=100))"
   ]
  },
  {
   "cell_type": "markdown",
   "metadata": {},
   "source": [
    "## Save Models and Tokenizers"
   ]
  },
  {
   "cell_type": "code",
   "execution_count": 35,
   "metadata": {},
   "outputs": [],
   "source": [
    "from keras.models import load_model\n",
    "\n",
    "model.save('lstm_model.h5')\n",
    "model_conv.save('lstm_conv_model.h5')\n",
    "\n",
    "# model = load_model('lstm_model.h5')"
   ]
  },
  {
   "cell_type": "code",
   "execution_count": 36,
   "metadata": {},
   "outputs": [],
   "source": [
    "import pickle\n",
    "\n",
    "# saving\n",
    "with open('tokenizer.pickle', 'wb') as handle:\n",
    "    pickle.dump(tokenizer, handle, protocol=pickle.HIGHEST_PROTOCOL)\n",
    "    \n",
    "# # loading\n",
    "# with open('tokenizer.pickle', 'rb') as handle:\n",
    "#     tokenizer = pickle.load(handle)"
   ]
  },
  {
   "cell_type": "markdown",
   "metadata": {},
   "source": [
    "## Wrap up Notification"
   ]
  },
  {
   "cell_type": "code",
   "execution_count": 37,
   "metadata": {},
   "outputs": [],
   "source": [
    "import smtplib\n",
    "from email.mime.text import MIMEText\n",
    "\n",
    "def sendmail(error=False):\n",
    "    # 세션 생성\n",
    "    s = smtplib.SMTP('smtp.gmail.com', 587)# TLS 보안 시작\n",
    "    s.starttls()\n",
    "    account_mail_address=\"2joonh2@gmail.com\"\n",
    "\n",
    "    try: f = open(\"C:/Users/2joon/OneDrive/문서/Gmail-app_pw.txt\", 'r')\n",
    "    except: f = open(\"C:/Users/Yoon/Documents/Gmail-app_pw.txt\", 'r')\n",
    "    pw = f.read()\n",
    "    f.close()\n",
    "\n",
    "    # 로그인 인증\n",
    "    s.login(account_mail_address, pw)\n",
    "\n",
    "    if error == False:     \n",
    "        msg = MIMEText('The jupyter notebook has been completed.')\n",
    "        msg['Subject'] = 'Execution Completed'\n",
    "    else:\n",
    "        msg = MIMEText('Error has occured, as below reason\\n\\n'+error)\n",
    "        msg['Subject'] = 'Execution Failed'\n",
    "\n",
    "    #메일 보내기\n",
    "    s.sendmail(account_mail_address, \"2joonh2@gmail.com\", msg.as_string())\n",
    "    # 세션 종료\n",
    "    s.quit()\n",
    "    \n",
    "    \n",
    "sendmail()"
   ]
  },
  {
   "cell_type": "code",
   "execution_count": null,
   "metadata": {},
   "outputs": [],
   "source": []
  }
 ],
 "metadata": {
  "kernelspec": {
   "display_name": "Python 3 (ipykernel)",
   "language": "python",
   "name": "python3"
  },
  "language_info": {
   "codemirror_mode": {
    "name": "ipython",
    "version": 3
   },
   "file_extension": ".py",
   "mimetype": "text/x-python",
   "name": "python",
   "nbconvert_exporter": "python",
   "pygments_lexer": "ipython3",
   "version": "3.9.7"
  }
 },
 "nbformat": 4,
 "nbformat_minor": 2
}
